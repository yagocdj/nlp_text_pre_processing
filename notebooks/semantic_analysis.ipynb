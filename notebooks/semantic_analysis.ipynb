{
 "cells": [
  {
   "cell_type": "markdown",
   "id": "7eee4a6b",
   "metadata": {},
   "source": [
    "# Tarefa 5 - Treinando Modelos Densos Estáticos\n",
    "## Alunos\n",
    "- Yago César\n",
    "- Samuel Morais\n"
   ]
  },
  {
   "cell_type": "markdown",
   "id": "c8f32676",
   "metadata": {},
   "source": [
    "## Imports e logging"
   ]
  },
  {
   "cell_type": "code",
   "execution_count": 1,
   "id": "223e8da8",
   "metadata": {},
   "outputs": [],
   "source": [
    "import ast\n",
    "from time import time\n",
    "import logging\n",
    "import pandas as pd\n",
    "from gensim.models.word2vec import Word2Vec\n",
    "from gensim.models.doc2vec import Doc2Vec, TaggedDocument\n",
    "\n",
    "logging.basicConfig(format='%(asctime)s : %(levelname)s : %(message)s', level=logging.INFO)"
   ]
  },
  {
   "cell_type": "markdown",
   "id": "77fc21e6",
   "metadata": {},
   "source": [
    "## Lendo o corpus pré-processado"
   ]
  },
  {
   "cell_type": "code",
   "execution_count": 2,
   "id": "e7771cef",
   "metadata": {},
   "outputs": [
    {
     "data": {
      "text/plain": [
       "0        [nada, queira, voltar, tempo, refazer, vida, t...\n",
       "1        [lidando, mudanças, humor, tido, muitas, mudan...\n",
       "2        [noiva, usar, voce, ja, sabe, pergunte, nao, f...\n",
       "3        [muitas, vezes, consigo, trabalhar, cerca, hor...\n",
       "4        [quais, ações, sentindo, ansioso, procurando, ...\n",
       "                               ...                        \n",
       "50962    [vivo, outras, fazendo, péssimo, trabalho, viv...\n",
       "50963    [parabéns, amigo, tapa, buraco, depende, quer,...\n",
       "50964    [ansiedade, doente, epiléptico, ansiedade, def...\n",
       "50965    [passei, período, difícil, durante, últimos, 3...\n",
       "50966    [sair, terapia, desde, 14, anos, finalmente, d...\n",
       "Name: text, Length: 50967, dtype: object"
      ]
     },
     "execution_count": 2,
     "metadata": {},
     "output_type": "execute_result"
    }
   ],
   "source": [
    "df = pd.read_csv(\"../data/TokenizedSentences.csv\")\n",
    "\n",
    "# Transformando as strings \"[...strings]\" para listas de strings\n",
    "df['text'] = df['text'].apply(ast.literal_eval)\n",
    "\n",
    "corpus = df['text'].tolist()\n",
    "df['text']"
   ]
  },
  {
   "cell_type": "markdown",
   "id": "ee8a8fa9",
   "metadata": {},
   "source": [
    "## Modelo Word2Vec\n",
    "### Treinamento"
   ]
  },
  {
   "cell_type": "markdown",
   "id": "bb5abdc6",
   "metadata": {},
   "source": [
    "#### Opções"
   ]
  },
  {
   "cell_type": "code",
   "execution_count": 3,
   "id": "cef83f97",
   "metadata": {},
   "outputs": [],
   "source": [
    "# 'skip-gram' ou 'cbow'\n",
    "TRAINING_ALGORITHM = 'skip-gram'"
   ]
  },
  {
   "cell_type": "code",
   "execution_count": 4,
   "id": "efd48701",
   "metadata": {},
   "outputs": [
    {
     "name": "stderr",
     "output_type": "stream",
     "text": [
      "2025-10-19 23:43:24,020 : INFO : Word2Vec lifecycle event {'params': 'Word2Vec<vocab=0, vector_size=300, alpha=0.025>', 'datetime': '2025-10-19T23:43:24.020921', 'gensim': '4.4.0', 'python': '3.11.2 (main, Apr 28 2025, 14:11:48) [GCC 12.2.0]', 'platform': 'Linux-6.1.0-40-amd64-x86_64-with-glibc2.36', 'event': 'created'}\n",
      "2025-10-19 23:43:24,021 : INFO : collecting all words and their counts\n",
      "2025-10-19 23:43:24,022 : INFO : PROGRESS: at sentence #0, processed 0 words, keeping 0 word types\n",
      "2025-10-19 23:43:24,110 : INFO : PROGRESS: at sentence #10000, processed 609329 words, keeping 39103 word types\n",
      "2025-10-19 23:43:24,186 : INFO : PROGRESS: at sentence #20000, processed 1203381 words, keeping 56838 word types\n",
      "2025-10-19 23:43:24,266 : INFO : PROGRESS: at sentence #30000, processed 1810721 words, keeping 71456 word types\n",
      "2025-10-19 23:43:24,346 : INFO : PROGRESS: at sentence #40000, processed 2414286 words, keeping 84054 word types\n",
      "2025-10-19 23:43:24,434 : INFO : PROGRESS: at sentence #50000, processed 3022407 words, keeping 95615 word types\n",
      "2025-10-19 23:43:24,443 : INFO : collected 96724 word types from a corpus of 3081926 raw words and 50967 sentences\n",
      "2025-10-19 23:43:24,444 : INFO : Creating a fresh vocabulary\n",
      "2025-10-19 23:43:24,496 : INFO : Word2Vec lifecycle event {'msg': 'effective_min_count=5 retains 23082 unique words (23.86% of original 96724, drops 73642)', 'datetime': '2025-10-19T23:43:24.496963', 'gensim': '4.4.0', 'python': '3.11.2 (main, Apr 28 2025, 14:11:48) [GCC 12.2.0]', 'platform': 'Linux-6.1.0-40-amd64-x86_64-with-glibc2.36', 'event': 'prepare_vocab'}\n",
      "2025-10-19 23:43:24,497 : INFO : Word2Vec lifecycle event {'msg': 'effective_min_count=5 leaves 2977868 word corpus (96.62% of original 3081926, drops 104058)', 'datetime': '2025-10-19T23:43:24.497517', 'gensim': '4.4.0', 'python': '3.11.2 (main, Apr 28 2025, 14:11:48) [GCC 12.2.0]', 'platform': 'Linux-6.1.0-40-amd64-x86_64-with-glibc2.36', 'event': 'prepare_vocab'}\n",
      "2025-10-19 23:43:24,563 : INFO : deleting the raw counts dictionary of 96724 items\n",
      "2025-10-19 23:43:24,565 : INFO : sample=6e-05 downsamples 1125 most-common words\n",
      "2025-10-19 23:43:24,566 : INFO : Word2Vec lifecycle event {'msg': 'downsampling leaves estimated 1701508.392757649 word corpus (57.1%% of prior 2977868)', 'datetime': '2025-10-19T23:43:24.566259', 'gensim': '4.4.0', 'python': '3.11.2 (main, Apr 28 2025, 14:11:48) [GCC 12.2.0]', 'platform': 'Linux-6.1.0-40-amd64-x86_64-with-glibc2.36', 'event': 'prepare_vocab'}\n",
      "2025-10-19 23:43:24,675 : INFO : estimated required memory for 23082 words and 300 dimensions: 66937800 bytes\n",
      "2025-10-19 23:43:24,676 : INFO : resetting layer weights\n",
      "2025-10-19 23:43:24,699 : INFO : Word2Vec lifecycle event {'update': False, 'trim_rule': 'None', 'datetime': '2025-10-19T23:43:24.699325', 'gensim': '4.4.0', 'python': '3.11.2 (main, Apr 28 2025, 14:11:48) [GCC 12.2.0]', 'platform': 'Linux-6.1.0-40-amd64-x86_64-with-glibc2.36', 'event': 'build_vocab'}\n",
      "2025-10-19 23:43:24,700 : INFO : Word2Vec lifecycle event {'msg': 'training model with 3 workers on 23082 vocabulary and 300 features, using sg=1 hs=0 sample=6e-05 negative=5 window=5 shrink_windows=True', 'datetime': '2025-10-19T23:43:24.700168', 'gensim': '4.4.0', 'python': '3.11.2 (main, Apr 28 2025, 14:11:48) [GCC 12.2.0]', 'platform': 'Linux-6.1.0-40-amd64-x86_64-with-glibc2.36', 'event': 'train'}\n"
     ]
    },
    {
     "name": "stdout",
     "output_type": "stream",
     "text": [
      "Time to build vocab: 0.01\n"
     ]
    },
    {
     "name": "stderr",
     "output_type": "stream",
     "text": [
      "2025-10-19 23:43:25,744 : INFO : EPOCH 0 - PROGRESS: at 20.55% examples, 337932 words/s, in_qsize 5, out_qsize 0\n",
      "2025-10-19 23:43:26,745 : INFO : EPOCH 0 - PROGRESS: at 41.13% examples, 341195 words/s, in_qsize 5, out_qsize 0\n",
      "2025-10-19 23:43:27,753 : INFO : EPOCH 0 - PROGRESS: at 59.70% examples, 332863 words/s, in_qsize 5, out_qsize 0\n",
      "2025-10-19 23:43:28,756 : INFO : EPOCH 0 - PROGRESS: at 77.20% examples, 323442 words/s, in_qsize 5, out_qsize 0\n",
      "2025-10-19 23:43:29,792 : INFO : EPOCH 0 - PROGRESS: at 96.74% examples, 323353 words/s, in_qsize 6, out_qsize 0\n",
      "2025-10-19 23:43:29,937 : INFO : EPOCH 0: training on 3081926 raw words (1702222 effective words) took 5.2s, 325353 effective words/s\n",
      "2025-10-19 23:43:30,967 : INFO : EPOCH 1 - PROGRESS: at 20.55% examples, 341587 words/s, in_qsize 5, out_qsize 0\n",
      "2025-10-19 23:43:31,992 : INFO : EPOCH 1 - PROGRESS: at 42.02% examples, 347325 words/s, in_qsize 5, out_qsize 0\n",
      "2025-10-19 23:43:32,997 : INFO : EPOCH 1 - PROGRESS: at 61.31% examples, 340897 words/s, in_qsize 6, out_qsize 0\n",
      "2025-10-19 23:43:34,028 : INFO : EPOCH 1 - PROGRESS: at 80.06% examples, 332506 words/s, in_qsize 5, out_qsize 0\n",
      "2025-10-19 23:43:35,048 : INFO : EPOCH 1 - PROGRESS: at 99.40% examples, 331103 words/s, in_qsize 2, out_qsize 1\n",
      "2025-10-19 23:43:35,070 : INFO : EPOCH 1: training on 3081926 raw words (1702771 effective words) took 5.1s, 331814 effective words/s\n",
      "2025-10-19 23:43:36,100 : INFO : EPOCH 2 - PROGRESS: at 20.55% examples, 341767 words/s, in_qsize 5, out_qsize 0\n",
      "2025-10-19 23:43:37,121 : INFO : EPOCH 2 - PROGRESS: at 42.02% examples, 347875 words/s, in_qsize 5, out_qsize 0\n",
      "2025-10-19 23:43:38,127 : INFO : EPOCH 2 - PROGRESS: at 62.63% examples, 348205 words/s, in_qsize 5, out_qsize 0\n",
      "2025-10-19 23:43:39,132 : INFO : EPOCH 2 - PROGRESS: at 83.90% examples, 350967 words/s, in_qsize 6, out_qsize 0\n",
      "2025-10-19 23:43:39,898 : INFO : EPOCH 2: training on 3081926 raw words (1701213 effective words) took 4.8s, 352553 effective words/s\n",
      "2025-10-19 23:43:40,920 : INFO : EPOCH 3 - PROGRESS: at 20.55% examples, 344629 words/s, in_qsize 6, out_qsize 0\n",
      "2025-10-19 23:43:41,921 : INFO : EPOCH 3 - PROGRESS: at 42.02% examples, 352709 words/s, in_qsize 5, out_qsize 0\n",
      "2025-10-19 23:43:42,935 : INFO : EPOCH 3 - PROGRESS: at 64.21% examples, 359542 words/s, in_qsize 5, out_qsize 0\n",
      "2025-10-19 23:43:43,964 : INFO : EPOCH 3 - PROGRESS: at 86.48% examples, 361485 words/s, in_qsize 6, out_qsize 0\n",
      "2025-10-19 23:43:44,605 : INFO : EPOCH 3: training on 3081926 raw words (1701651 effective words) took 4.7s, 361677 effective words/s\n",
      "2025-10-19 23:43:45,616 : INFO : EPOCH 4 - PROGRESS: at 20.55% examples, 348095 words/s, in_qsize 5, out_qsize 0\n",
      "2025-10-19 23:43:46,624 : INFO : EPOCH 4 - PROGRESS: at 42.88% examples, 361634 words/s, in_qsize 6, out_qsize 0\n",
      "2025-10-19 23:43:47,637 : INFO : EPOCH 4 - PROGRESS: at 64.58% examples, 361850 words/s, in_qsize 5, out_qsize 0\n",
      "2025-10-19 23:43:48,647 : INFO : EPOCH 4 - PROGRESS: at 85.82% examples, 360840 words/s, in_qsize 5, out_qsize 0\n",
      "2025-10-19 23:43:49,302 : INFO : EPOCH 4: training on 3081926 raw words (1701153 effective words) took 4.7s, 362277 effective words/s\n",
      "2025-10-19 23:43:50,338 : INFO : EPOCH 5 - PROGRESS: at 21.59% examples, 355774 words/s, in_qsize 5, out_qsize 0\n",
      "2025-10-19 23:43:51,371 : INFO : EPOCH 5 - PROGRESS: at 43.84% examples, 360685 words/s, in_qsize 6, out_qsize 0\n",
      "2025-10-19 23:43:52,410 : INFO : EPOCH 5 - PROGRESS: at 64.21% examples, 351008 words/s, in_qsize 5, out_qsize 0\n",
      "2025-10-19 23:43:53,415 : INFO : EPOCH 5 - PROGRESS: at 83.52% examples, 345010 words/s, in_qsize 5, out_qsize 0\n",
      "2025-10-19 23:43:54,243 : INFO : EPOCH 5: training on 3081926 raw words (1700965 effective words) took 4.9s, 344398 effective words/s\n",
      "2025-10-19 23:43:55,249 : INFO : EPOCH 6 - PROGRESS: at 18.85% examples, 322466 words/s, in_qsize 5, out_qsize 0\n",
      "2025-10-19 23:43:56,289 : INFO : EPOCH 6 - PROGRESS: at 37.83% examples, 313481 words/s, in_qsize 5, out_qsize 0\n",
      "2025-10-19 23:43:57,314 : INFO : EPOCH 6 - PROGRESS: at 57.53% examples, 317501 words/s, in_qsize 5, out_qsize 0\n",
      "2025-10-19 23:43:58,321 : INFO : EPOCH 6 - PROGRESS: at 77.20% examples, 321001 words/s, in_qsize 6, out_qsize 0\n",
      "2025-10-19 23:43:59,343 : INFO : EPOCH 6 - PROGRESS: at 97.32% examples, 324312 words/s, in_qsize 5, out_qsize 0\n",
      "2025-10-19 23:43:59,454 : INFO : EPOCH 6: training on 3081926 raw words (1699672 effective words) took 5.2s, 326262 effective words/s\n",
      "2025-10-19 23:44:00,464 : INFO : EPOCH 7 - PROGRESS: at 19.50% examples, 332242 words/s, in_qsize 5, out_qsize 0\n",
      "2025-10-19 23:44:01,465 : INFO : EPOCH 7 - PROGRESS: at 39.88% examples, 335727 words/s, in_qsize 5, out_qsize 0\n",
      "2025-10-19 23:44:02,475 : INFO : EPOCH 7 - PROGRESS: at 58.73% examples, 330627 words/s, in_qsize 5, out_qsize 0\n",
      "2025-10-19 23:44:03,492 : INFO : EPOCH 7 - PROGRESS: at 79.02% examples, 332688 words/s, in_qsize 5, out_qsize 0\n",
      "2025-10-19 23:44:04,506 : INFO : EPOCH 7 - PROGRESS: at 99.25% examples, 334287 words/s, in_qsize 3, out_qsize 0\n",
      "2025-10-19 23:44:04,535 : INFO : EPOCH 7: training on 3081926 raw words (1701797 effective words) took 5.1s, 335057 effective words/s\n",
      "2025-10-19 23:44:05,543 : INFO : EPOCH 8 - PROGRESS: at 18.54% examples, 316444 words/s, in_qsize 5, out_qsize 0\n",
      "2025-10-19 23:44:06,550 : INFO : EPOCH 8 - PROGRESS: at 36.16% examples, 304989 words/s, in_qsize 5, out_qsize 0\n",
      "2025-10-19 23:44:07,555 : INFO : EPOCH 8 - PROGRESS: at 56.18% examples, 315887 words/s, in_qsize 5, out_qsize 0\n",
      "2025-10-19 23:44:08,570 : INFO : EPOCH 8 - PROGRESS: at 76.26% examples, 320596 words/s, in_qsize 5, out_qsize 0\n",
      "2025-10-19 23:44:09,584 : INFO : EPOCH 8 - PROGRESS: at 95.77% examples, 322246 words/s, in_qsize 6, out_qsize 0\n",
      "2025-10-19 23:44:09,810 : INFO : EPOCH 8: training on 3081926 raw words (1700495 effective words) took 5.3s, 322465 effective words/s\n",
      "2025-10-19 23:44:10,817 : INFO : EPOCH 9 - PROGRESS: at 18.54% examples, 317671 words/s, in_qsize 5, out_qsize 0\n",
      "2025-10-19 23:44:11,828 : INFO : EPOCH 9 - PROGRESS: at 38.86% examples, 326513 words/s, in_qsize 5, out_qsize 0\n",
      "2025-10-19 23:44:12,828 : INFO : EPOCH 9 - PROGRESS: at 56.54% examples, 318126 words/s, in_qsize 5, out_qsize 0\n",
      "2025-10-19 23:44:13,841 : INFO : EPOCH 9 - PROGRESS: at 75.25% examples, 316991 words/s, in_qsize 5, out_qsize 0\n",
      "2025-10-19 23:44:14,846 : INFO : EPOCH 9 - PROGRESS: at 92.13% examples, 310269 words/s, in_qsize 6, out_qsize 0\n",
      "2025-10-19 23:44:15,289 : INFO : EPOCH 9: training on 3081926 raw words (1701365 effective words) took 5.5s, 310667 effective words/s\n",
      "2025-10-19 23:44:16,298 : INFO : EPOCH 10 - PROGRESS: at 17.95% examples, 305130 words/s, in_qsize 6, out_qsize 0\n",
      "2025-10-19 23:44:17,322 : INFO : EPOCH 10 - PROGRESS: at 36.39% examples, 304958 words/s, in_qsize 5, out_qsize 0\n",
      "2025-10-19 23:44:18,342 : INFO : EPOCH 10 - PROGRESS: at 54.52% examples, 303498 words/s, in_qsize 5, out_qsize 0\n",
      "2025-10-19 23:44:19,364 : INFO : EPOCH 10 - PROGRESS: at 73.21% examples, 305542 words/s, in_qsize 5, out_qsize 0\n",
      "2025-10-19 23:44:20,383 : INFO : EPOCH 10 - PROGRESS: at 91.81% examples, 305672 words/s, in_qsize 5, out_qsize 0\n",
      "2025-10-19 23:44:20,889 : INFO : EPOCH 10: training on 3081926 raw words (1701499 effective words) took 5.6s, 303927 effective words/s\n",
      "2025-10-19 23:44:21,898 : INFO : EPOCH 11 - PROGRESS: at 17.60% examples, 300380 words/s, in_qsize 5, out_qsize 0\n",
      "2025-10-19 23:44:22,900 : INFO : EPOCH 11 - PROGRESS: at 36.39% examples, 308489 words/s, in_qsize 5, out_qsize 0\n",
      "2025-10-19 23:44:23,912 : INFO : EPOCH 11 - PROGRESS: at 55.20% examples, 310389 words/s, in_qsize 5, out_qsize 0\n",
      "2025-10-19 23:44:24,913 : INFO : EPOCH 11 - PROGRESS: at 74.55% examples, 314960 words/s, in_qsize 6, out_qsize 0\n",
      "2025-10-19 23:44:25,917 : INFO : EPOCH 11 - PROGRESS: at 94.30% examples, 318384 words/s, in_qsize 5, out_qsize 0\n",
      "2025-10-19 23:44:26,212 : INFO : EPOCH 11: training on 3081926 raw words (1701789 effective words) took 5.3s, 319817 effective words/s\n",
      "2025-10-19 23:44:27,246 : INFO : EPOCH 12 - PROGRESS: at 17.27% examples, 287042 words/s, in_qsize 5, out_qsize 0\n",
      "2025-10-19 23:44:28,252 : INFO : EPOCH 12 - PROGRESS: at 36.39% examples, 303987 words/s, in_qsize 5, out_qsize 0\n",
      "2025-10-19 23:44:29,254 : INFO : EPOCH 12 - PROGRESS: at 53.54% examples, 299308 words/s, in_qsize 6, out_qsize 0\n",
      "2025-10-19 23:44:30,261 : INFO : EPOCH 12 - PROGRESS: at 71.03% examples, 298159 words/s, in_qsize 5, out_qsize 0\n",
      "2025-10-19 23:44:31,274 : INFO : EPOCH 12 - PROGRESS: at 89.73% examples, 301162 words/s, in_qsize 5, out_qsize 0\n",
      "2025-10-19 23:44:31,761 : INFO : EPOCH 12: training on 3081926 raw words (1701536 effective words) took 5.5s, 306751 effective words/s\n",
      "2025-10-19 23:44:32,776 : INFO : EPOCH 13 - PROGRESS: at 17.95% examples, 303535 words/s, in_qsize 5, out_qsize 0\n",
      "2025-10-19 23:44:33,807 : INFO : EPOCH 13 - PROGRESS: at 37.47% examples, 310990 words/s, in_qsize 5, out_qsize 0\n",
      "2025-10-19 23:44:34,835 : INFO : EPOCH 13 - PROGRESS: at 57.88% examples, 319591 words/s, in_qsize 5, out_qsize 0\n",
      "2025-10-19 23:44:35,865 : INFO : EPOCH 13 - PROGRESS: at 78.09% examples, 323220 words/s, in_qsize 6, out_qsize 0\n",
      "2025-10-19 23:44:36,874 : INFO : EPOCH 13 - PROGRESS: at 97.32% examples, 323669 words/s, in_qsize 5, out_qsize 0\n",
      "2025-10-19 23:44:36,990 : INFO : EPOCH 13: training on 3081926 raw words (1701029 effective words) took 5.2s, 325367 effective words/s\n",
      "2025-10-19 23:44:38,005 : INFO : EPOCH 14 - PROGRESS: at 19.50% examples, 331126 words/s, in_qsize 5, out_qsize 0\n",
      "2025-10-19 23:44:39,009 : INFO : EPOCH 14 - PROGRESS: at 39.88% examples, 334604 words/s, in_qsize 5, out_qsize 0\n",
      "2025-10-19 23:44:40,020 : INFO : EPOCH 14 - PROGRESS: at 59.03% examples, 331574 words/s, in_qsize 5, out_qsize 0\n",
      "2025-10-19 23:44:41,021 : INFO : EPOCH 14 - PROGRESS: at 79.39% examples, 334875 words/s, in_qsize 6, out_qsize 0\n",
      "2025-10-19 23:44:42,026 : INFO : EPOCH 14 - PROGRESS: at 98.61% examples, 333385 words/s, in_qsize 5, out_qsize 0\n",
      "2025-10-19 23:44:42,091 : INFO : EPOCH 14: training on 3081926 raw words (1702652 effective words) took 5.1s, 333949 effective words/s\n",
      "2025-10-19 23:44:43,104 : INFO : EPOCH 15 - PROGRESS: at 19.50% examples, 331032 words/s, in_qsize 5, out_qsize 0\n",
      "2025-10-19 23:44:44,107 : INFO : EPOCH 15 - PROGRESS: at 40.19% examples, 337578 words/s, in_qsize 5, out_qsize 0\n",
      "2025-10-19 23:44:45,119 : INFO : EPOCH 15 - PROGRESS: at 60.02% examples, 336959 words/s, in_qsize 5, out_qsize 0\n",
      "2025-10-19 23:44:46,127 : INFO : EPOCH 15 - PROGRESS: at 80.06% examples, 336880 words/s, in_qsize 5, out_qsize 0\n",
      "2025-10-19 23:44:47,107 : INFO : EPOCH 15: training on 3081926 raw words (1701214 effective words) took 5.0s, 339225 effective words/s\n",
      "2025-10-19 23:44:48,121 : INFO : EPOCH 16 - PROGRESS: at 19.16% examples, 325401 words/s, in_qsize 5, out_qsize 0\n",
      "2025-10-19 23:44:49,126 : INFO : EPOCH 16 - PROGRESS: at 38.86% examples, 325868 words/s, in_qsize 5, out_qsize 0\n",
      "2025-10-19 23:44:50,134 : INFO : EPOCH 16 - PROGRESS: at 58.20% examples, 326174 words/s, in_qsize 5, out_qsize 0\n",
      "2025-10-19 23:44:51,142 : INFO : EPOCH 16 - PROGRESS: at 78.09% examples, 328787 words/s, in_qsize 5, out_qsize 0\n",
      "2025-10-19 23:44:52,146 : INFO : EPOCH 16 - PROGRESS: at 98.28% examples, 331704 words/s, in_qsize 5, out_qsize 0\n",
      "2025-10-19 23:44:52,213 : INFO : EPOCH 16: training on 3081926 raw words (1700708 effective words) took 5.1s, 333247 effective words/s\n",
      "2025-10-19 23:44:53,228 : INFO : EPOCH 17 - PROGRESS: at 20.25% examples, 341291 words/s, in_qsize 5, out_qsize 0\n",
      "2025-10-19 23:44:54,243 : INFO : EPOCH 17 - PROGRESS: at 40.50% examples, 338040 words/s, in_qsize 5, out_qsize 0\n",
      "2025-10-19 23:44:55,256 : INFO : EPOCH 17 - PROGRESS: at 60.61% examples, 338798 words/s, in_qsize 5, out_qsize 0\n",
      "2025-10-19 23:44:56,259 : INFO : EPOCH 17 - PROGRESS: at 80.39% examples, 337377 words/s, in_qsize 5, out_qsize 0\n",
      "2025-10-19 23:44:57,267 : INFO : EPOCH 17 - PROGRESS: at 99.25% examples, 334123 words/s, in_qsize 3, out_qsize 0\n",
      "2025-10-19 23:44:57,295 : INFO : EPOCH 17: training on 3081926 raw words (1701724 effective words) took 5.1s, 334946 effective words/s\n",
      "2025-10-19 23:44:58,297 : INFO : EPOCH 18 - PROGRESS: at 18.85% examples, 324500 words/s, in_qsize 5, out_qsize 0\n",
      "2025-10-19 23:44:59,298 : INFO : EPOCH 18 - PROGRESS: at 39.19% examples, 331798 words/s, in_qsize 5, out_qsize 0\n",
      "2025-10-19 23:45:00,300 : INFO : EPOCH 18 - PROGRESS: at 58.73% examples, 332391 words/s, in_qsize 6, out_qsize 0\n",
      "2025-10-19 23:45:01,323 : INFO : EPOCH 18 - PROGRESS: at 79.02% examples, 333511 words/s, in_qsize 5, out_qsize 0\n",
      "2025-10-19 23:45:02,326 : INFO : EPOCH 18 - PROGRESS: at 99.52% examples, 336743 words/s, in_qsize 2, out_qsize 1\n",
      "2025-10-19 23:45:02,339 : INFO : EPOCH 18: training on 3081926 raw words (1701551 effective words) took 5.0s, 337456 effective words/s\n",
      "2025-10-19 23:45:03,345 : INFO : EPOCH 19 - PROGRESS: at 17.60% examples, 300241 words/s, in_qsize 5, out_qsize 0\n",
      "2025-10-19 23:45:04,388 : INFO : EPOCH 19 - PROGRESS: at 35.16% examples, 292148 words/s, in_qsize 4, out_qsize 1\n",
      "2025-10-19 23:45:05,394 : INFO : EPOCH 19 - PROGRESS: at 54.52% examples, 303347 words/s, in_qsize 5, out_qsize 0\n",
      "2025-10-19 23:45:06,409 : INFO : EPOCH 19 - PROGRESS: at 73.86% examples, 308558 words/s, in_qsize 5, out_qsize 0\n",
      "2025-10-19 23:45:07,444 : INFO : EPOCH 19 - PROGRESS: at 92.13% examples, 306076 words/s, in_qsize 6, out_qsize 0\n",
      "2025-10-19 23:45:07,905 : INFO : EPOCH 19: training on 3081926 raw words (1701667 effective words) took 5.6s, 305807 effective words/s\n",
      "2025-10-19 23:45:08,922 : INFO : EPOCH 20 - PROGRESS: at 16.94% examples, 286491 words/s, in_qsize 6, out_qsize 0\n",
      "2025-10-19 23:45:09,925 : INFO : EPOCH 20 - PROGRESS: at 37.14% examples, 312598 words/s, in_qsize 5, out_qsize 0\n",
      "2025-10-19 23:45:10,937 : INFO : EPOCH 20 - PROGRESS: at 56.87% examples, 318589 words/s, in_qsize 5, out_qsize 0\n",
      "2025-10-19 23:45:11,953 : INFO : EPOCH 20 - PROGRESS: at 77.20% examples, 323766 words/s, in_qsize 6, out_qsize 0\n",
      "2025-10-19 23:45:12,978 : INFO : EPOCH 20 - PROGRESS: at 96.70% examples, 324289 words/s, in_qsize 5, out_qsize 0\n",
      "2025-10-19 23:45:13,142 : INFO : EPOCH 20: training on 3081926 raw words (1701809 effective words) took 5.2s, 325049 effective words/s\n",
      "2025-10-19 23:45:14,153 : INFO : EPOCH 21 - PROGRESS: at 19.19% examples, 326857 words/s, in_qsize 5, out_qsize 0\n",
      "2025-10-19 23:45:15,177 : INFO : EPOCH 21 - PROGRESS: at 39.19% examples, 326598 words/s, in_qsize 5, out_qsize 0\n",
      "2025-10-19 23:45:16,193 : INFO : EPOCH 21 - PROGRESS: at 57.88% examples, 321882 words/s, in_qsize 5, out_qsize 0\n",
      "2025-10-19 23:45:17,211 : INFO : EPOCH 21 - PROGRESS: at 77.51% examples, 323541 words/s, in_qsize 5, out_qsize 0\n",
      "2025-10-19 23:45:18,213 : INFO : EPOCH 21 - PROGRESS: at 96.41% examples, 323376 words/s, in_qsize 6, out_qsize 0\n",
      "2025-10-19 23:45:18,425 : INFO : EPOCH 21: training on 3081926 raw words (1702260 effective words) took 5.3s, 322309 effective words/s\n",
      "2025-10-19 23:45:19,440 : INFO : EPOCH 22 - PROGRESS: at 18.27% examples, 309462 words/s, in_qsize 5, out_qsize 0\n",
      "2025-10-19 23:45:20,444 : INFO : EPOCH 22 - PROGRESS: at 36.55% examples, 307497 words/s, in_qsize 5, out_qsize 0\n",
      "2025-10-19 23:45:21,457 : INFO : EPOCH 22 - PROGRESS: at 54.88% examples, 307769 words/s, in_qsize 5, out_qsize 0\n",
      "2025-10-19 23:45:22,504 : INFO : EPOCH 22 - PROGRESS: at 73.23% examples, 305539 words/s, in_qsize 5, out_qsize 0\n",
      "2025-10-19 23:45:23,517 : INFO : EPOCH 22 - PROGRESS: at 91.09% examples, 303851 words/s, in_qsize 5, out_qsize 0\n",
      "2025-10-19 23:45:23,962 : INFO : EPOCH 22: training on 3081926 raw words (1702201 effective words) took 5.5s, 307574 effective words/s\n",
      "2025-10-19 23:45:24,996 : INFO : EPOCH 23 - PROGRESS: at 19.50% examples, 324584 words/s, in_qsize 5, out_qsize 0\n",
      "2025-10-19 23:45:25,997 : INFO : EPOCH 23 - PROGRESS: at 39.19% examples, 326411 words/s, in_qsize 5, out_qsize 0\n",
      "2025-10-19 23:45:27,004 : INFO : EPOCH 23 - PROGRESS: at 57.53% examples, 321092 words/s, in_qsize 5, out_qsize 0\n",
      "2025-10-19 23:45:28,011 : INFO : EPOCH 23 - PROGRESS: at 76.26% examples, 319662 words/s, in_qsize 5, out_qsize 0\n",
      "2025-10-19 23:45:29,017 : INFO : EPOCH 23 - PROGRESS: at 94.83% examples, 318789 words/s, in_qsize 5, out_qsize 0\n",
      "2025-10-19 23:45:29,288 : INFO : EPOCH 23: training on 3081926 raw words (1700942 effective words) took 5.3s, 319520 effective words/s\n",
      "2025-10-19 23:45:30,311 : INFO : EPOCH 24 - PROGRESS: at 19.50% examples, 328127 words/s, in_qsize 5, out_qsize 0\n",
      "2025-10-19 23:45:31,332 : INFO : EPOCH 24 - PROGRESS: at 40.19% examples, 333124 words/s, in_qsize 5, out_qsize 0\n",
      "2025-10-19 23:45:32,342 : INFO : EPOCH 24 - PROGRESS: at 58.20% examples, 323441 words/s, in_qsize 5, out_qsize 0\n",
      "2025-10-19 23:45:33,344 : INFO : EPOCH 24 - PROGRESS: at 76.92% examples, 321677 words/s, in_qsize 5, out_qsize 0\n",
      "2025-10-19 23:45:34,348 : INFO : EPOCH 24 - PROGRESS: at 97.32% examples, 327112 words/s, in_qsize 5, out_qsize 0\n",
      "2025-10-19 23:45:34,468 : INFO : EPOCH 24: training on 3081926 raw words (1701278 effective words) took 5.2s, 328559 effective words/s\n",
      "2025-10-19 23:45:35,502 : INFO : EPOCH 25 - PROGRESS: at 17.27% examples, 287159 words/s, in_qsize 5, out_qsize 0\n",
      "2025-10-19 23:45:36,506 : INFO : EPOCH 25 - PROGRESS: at 36.39% examples, 304154 words/s, in_qsize 5, out_qsize 0\n",
      "2025-10-19 23:45:37,515 : INFO : EPOCH 25 - PROGRESS: at 54.88% examples, 305918 words/s, in_qsize 5, out_qsize 0\n",
      "2025-10-19 23:45:38,520 : INFO : EPOCH 25 - PROGRESS: at 74.55% examples, 312702 words/s, in_qsize 5, out_qsize 0\n",
      "2025-10-19 23:45:39,524 : INFO : EPOCH 25 - PROGRESS: at 93.10% examples, 312283 words/s, in_qsize 6, out_qsize 0\n",
      "2025-10-19 23:45:39,870 : INFO : EPOCH 25: training on 3081926 raw words (1701845 effective words) took 5.4s, 315098 effective words/s\n",
      "2025-10-19 23:45:40,880 : INFO : EPOCH 26 - PROGRESS: at 19.19% examples, 326296 words/s, in_qsize 5, out_qsize 0\n",
      "2025-10-19 23:45:41,885 : INFO : EPOCH 26 - PROGRESS: at 39.53% examples, 332127 words/s, in_qsize 5, out_qsize 0\n",
      "2025-10-19 23:45:42,908 : INFO : EPOCH 26 - PROGRESS: at 59.40% examples, 332380 words/s, in_qsize 5, out_qsize 0\n",
      "2025-10-19 23:45:43,918 : INFO : EPOCH 26 - PROGRESS: at 79.71% examples, 334542 words/s, in_qsize 5, out_qsize 0\n",
      "2025-10-19 23:45:44,936 : INFO : EPOCH 26 - PROGRESS: at 99.67% examples, 334861 words/s, in_qsize 1, out_qsize 1\n",
      "2025-10-19 23:45:44,946 : INFO : EPOCH 26: training on 3081926 raw words (1701287 effective words) took 5.1s, 335303 effective words/s\n",
      "2025-10-19 23:45:45,959 : INFO : EPOCH 27 - PROGRESS: at 19.19% examples, 326486 words/s, in_qsize 5, out_qsize 0\n",
      "2025-10-19 23:45:46,984 : INFO : EPOCH 27 - PROGRESS: at 37.47% examples, 312716 words/s, in_qsize 5, out_qsize 0\n",
      "2025-10-19 23:45:48,006 : INFO : EPOCH 27 - PROGRESS: at 57.20% examples, 317614 words/s, in_qsize 5, out_qsize 0\n",
      "2025-10-19 23:45:49,017 : INFO : EPOCH 27 - PROGRESS: at 75.95% examples, 316781 words/s, in_qsize 6, out_qsize 0\n",
      "2025-10-19 23:45:50,022 : INFO : EPOCH 27 - PROGRESS: at 95.42% examples, 319808 words/s, in_qsize 6, out_qsize 0\n",
      "2025-10-19 23:45:50,250 : INFO : EPOCH 27: training on 3081926 raw words (1702236 effective words) took 5.3s, 321021 effective words/s\n",
      "2025-10-19 23:45:51,274 : INFO : EPOCH 28 - PROGRESS: at 19.50% examples, 327349 words/s, in_qsize 5, out_qsize 0\n",
      "2025-10-19 23:45:52,288 : INFO : EPOCH 28 - PROGRESS: at 40.19% examples, 334008 words/s, in_qsize 6, out_qsize 0\n",
      "2025-10-19 23:45:53,291 : INFO : EPOCH 28 - PROGRESS: at 59.70% examples, 333781 words/s, in_qsize 5, out_qsize 0\n",
      "2025-10-19 23:45:54,294 : INFO : EPOCH 28 - PROGRESS: at 80.39% examples, 337481 words/s, in_qsize 5, out_qsize 0\n",
      "2025-10-19 23:45:55,237 : INFO : EPOCH 28: training on 3081926 raw words (1701359 effective words) took 5.0s, 341287 effective words/s\n",
      "2025-10-19 23:45:56,241 : INFO : EPOCH 29 - PROGRESS: at 20.25% examples, 344749 words/s, in_qsize 5, out_qsize 0\n",
      "2025-10-19 23:45:57,242 : INFO : EPOCH 29 - PROGRESS: at 40.19% examples, 339105 words/s, in_qsize 5, out_qsize 0\n",
      "2025-10-19 23:45:58,257 : INFO : EPOCH 29 - PROGRESS: at 59.70% examples, 335770 words/s, in_qsize 5, out_qsize 0\n",
      "2025-10-19 23:45:59,269 : INFO : EPOCH 29 - PROGRESS: at 80.39% examples, 338225 words/s, in_qsize 5, out_qsize 0\n",
      "2025-10-19 23:46:00,208 : INFO : EPOCH 29: training on 3081926 raw words (1700144 effective words) took 5.0s, 342100 effective words/s\n",
      "2025-10-19 23:46:00,209 : INFO : Word2Vec lifecycle event {'msg': 'training on 92457780 raw words (51044034 effective words) took 155.5s, 328240 effective words/s', 'datetime': '2025-10-19T23:46:00.209105', 'gensim': '4.4.0', 'python': '3.11.2 (main, Apr 28 2025, 14:11:48) [GCC 12.2.0]', 'platform': 'Linux-6.1.0-40-amd64-x86_64-with-glibc2.36', 'event': 'train'}\n",
      "2025-10-19 23:46:00,209 : INFO : Word2Vec lifecycle event {'fname_or_handle': 'word2vec_{TRAINING_ALGORITHM}.model', 'separately': 'None', 'sep_limit': 10485760, 'ignore': frozenset(), 'datetime': '2025-10-19T23:46:00.209720', 'gensim': '4.4.0', 'python': '3.11.2 (main, Apr 28 2025, 14:11:48) [GCC 12.2.0]', 'platform': 'Linux-6.1.0-40-amd64-x86_64-with-glibc2.36', 'event': 'saving'}\n",
      "2025-10-19 23:46:00,210 : INFO : not storing attribute cum_table\n"
     ]
    },
    {
     "name": "stdout",
     "output_type": "stream",
     "text": [
      "Time to train the model: 2.59 mins\n"
     ]
    },
    {
     "name": "stderr",
     "output_type": "stream",
     "text": [
      "2025-10-19 23:46:00,536 : INFO : saved word2vec_{TRAINING_ALGORITHM}.model\n"
     ]
    }
   ],
   "source": [
    "\n",
    "\n",
    "w2v_model = Word2Vec(\n",
    "    vector_size=300, # dimensionalidade do vetor de palavras\n",
    "    window=5,        # distância máxima entre a palavra atual e a palavra predita em uma sentença\n",
    "    min_count=5,     # ignora todas as palavras com uma frequência total menor que esse valor\n",
    "    sample=6e-5,     # limiar para configurar quais palavras de maior frequência são aleatoriamente downsampled\n",
    "    sg=1 if TRAINING_ALGORITHM == 'skip-gram' else 0 # CBOW = 0 ; skip-gram = 1\n",
    ")\n",
    "\n",
    "t = time()\n",
    "w2v_model.build_vocab(corpus, progress_per=10000)\n",
    "print(f'Time to build vocab: {round((time() - t) / 60, 2)}')\n",
    "\n",
    "t = time()\n",
    "# report_delay - número de segundos para esperar antes de reportar o progresso\n",
    "w2v_model.train(corpus, total_examples=w2v_model.corpus_count, epochs=30, report_delay=1)\n",
    "print(f'Time to train the model: {round((time() - t) / 60, 2)} mins')\n",
    "\n",
    "w2v_model.save('word2vec_{TRAINING_ALGORITHM}.model')\n"
   ]
  },
  {
   "cell_type": "markdown",
   "id": "30c11b60",
   "metadata": {},
   "source": [
    "### Exploração semântica\n",
    "#### Palavras mais similares\n",
    "\n",
    "Tomando como base o contexto do corpus, as 4 palavras escohidas foram:\n",
    "- depressão;\n",
    "- ansiedade;\n",
    "- medo;\n",
    "- suicídio."
   ]
  },
  {
   "cell_type": "code",
   "execution_count": 5,
   "id": "82cf269c",
   "metadata": {},
   "outputs": [
    {
     "data": {
      "text/plain": [
       "[('ansiedade', 0.7341228723526001),\n",
       " ('deprimido', 0.6133078336715698),\n",
       " ('diagnosticado', 0.60204017162323),\n",
       " ('atípica', 0.581782341003418),\n",
       " ('tdm', 0.5664227604866028)]"
      ]
     },
     "execution_count": 5,
     "metadata": {},
     "output_type": "execute_result"
    }
   ],
   "source": [
    "w2v_model.wv.most_similar(positive=[\"depressão\"], topn=5)"
   ]
  },
  {
   "cell_type": "code",
   "execution_count": 6,
   "id": "f61b2db6",
   "metadata": {},
   "outputs": [
    {
     "data": {
      "text/plain": [
       "[('depressão', 0.7341229319572449),\n",
       " ('pânico', 0.6757805347442627),\n",
       " ('social', 0.6715758442878723),\n",
       " ('ataques', 0.651681125164032),\n",
       " ('sudorese', 0.6240261197090149)]"
      ]
     },
     "execution_count": 6,
     "metadata": {},
     "output_type": "execute_result"
    }
   ],
   "source": [
    "w2v_model.wv.most_similar(positive=[\"ansiedade\"], topn=5)"
   ]
  },
  {
   "cell_type": "code",
   "execution_count": 7,
   "id": "d3ac1092",
   "metadata": {},
   "outputs": [
    {
     "data": {
      "text/plain": [
       "[('posso', 0.5907377004623413),\n",
       " ('preocupado', 0.5629320740699768),\n",
       " ('tanto', 0.5490846037864685),\n",
       " ('ansiedade', 0.5379822850227356),\n",
       " ('disso', 0.523711621761322)]"
      ]
     },
     "execution_count": 7,
     "metadata": {},
     "output_type": "execute_result"
    }
   ],
   "source": [
    "w2v_model.wv.most_similar(positive=[\"medo\"], topn=5)"
   ]
  },
  {
   "cell_type": "code",
   "execution_count": 8,
   "id": "1590d071",
   "metadata": {},
   "outputs": [
    {
     "data": {
      "text/plain": [
       "[('matar', 0.6774101257324219),\n",
       " ('cometer', 0.6180763244628906),\n",
       " ('acabar', 0.5466104745864868),\n",
       " ('suicida', 0.5241466760635376),\n",
       " ('morte', 0.5172737836837769)]"
      ]
     },
     "execution_count": 8,
     "metadata": {},
     "output_type": "execute_result"
    }
   ],
   "source": [
    "w2v_model.wv.most_similar(positive=[\"suicídio\"], topn=5)"
   ]
  },
  {
   "cell_type": "markdown",
   "id": "093170c5",
   "metadata": {},
   "source": [
    "#### Similaridade semântica entre palavras\n",
    "\n",
    "Palavras escolhidas:\n",
    "- ansiedade;\n",
    "- depressão;\n",
    "- suicídio."
   ]
  },
  {
   "cell_type": "code",
   "execution_count": 9,
   "id": "1fbdf972",
   "metadata": {},
   "outputs": [
    {
     "data": {
      "text/plain": [
       "0.7341229"
      ]
     },
     "execution_count": 9,
     "metadata": {},
     "output_type": "execute_result"
    }
   ],
   "source": [
    "w2v_model.wv.similarity('ansiedade', 'depressão')"
   ]
  },
  {
   "cell_type": "code",
   "execution_count": 10,
   "id": "03f9d80b",
   "metadata": {},
   "outputs": [
    {
     "data": {
      "text/plain": [
       "0.23209706"
      ]
     },
     "execution_count": 10,
     "metadata": {},
     "output_type": "execute_result"
    }
   ],
   "source": [
    "w2v_model.wv.similarity('suicídio', 'ansiedade')"
   ]
  },
  {
   "cell_type": "code",
   "execution_count": 11,
   "id": "abf46450",
   "metadata": {},
   "outputs": [
    {
     "data": {
      "text/plain": [
       "0.41887885"
      ]
     },
     "execution_count": 11,
     "metadata": {},
     "output_type": "execute_result"
    }
   ],
   "source": [
    "w2v_model.wv.similarity('depressão', 'suicídio')"
   ]
  },
  {
   "cell_type": "markdown",
   "id": "a37aed87",
   "metadata": {},
   "source": [
    "#### Analogia semântica\n",
    "\n",
    "Analogias escolhidas:\n",
    "- **\"suicídio + depressão\"**: entender quais palavras entram no contexto da combinação entre **\"suicídio\"** e **\"depressão\"**.\n",
    "- **\"depressão + ansiedade - suicídio\"**: entender o que há em comum entre **depressão** e **ansiedade** sem levar em conta desfechos extremos (**suicídio**).\n",
    "- **\"psicólogo + saúde\"**: buscar palavras que representem o papel do **psicólogo** na melhora da **saúde** dos pacientes."
   ]
  },
  {
   "cell_type": "code",
   "execution_count": 12,
   "id": "5d166fff",
   "metadata": {},
   "outputs": [
    {
     "data": {
      "text/plain": [
       "[('suicida', 0.6351876258850098),\n",
       " ('matar', 0.605955958366394),\n",
       " ('deprimido', 0.5976631045341492),\n",
       " ('suicidas', 0.5921911597251892),\n",
       " ('ansiedade', 0.57357257604599),\n",
       " ('vida', 0.5606616139411926),\n",
       " ('pensamentos', 0.5273422002792358),\n",
       " ('mental', 0.5263992547988892),\n",
       " ('intitular', 0.5260677933692932),\n",
       " ('desde', 0.5218965411186218)]"
      ]
     },
     "execution_count": 12,
     "metadata": {},
     "output_type": "execute_result"
    }
   ],
   "source": [
    "# suicídio + depressão\n",
    "w2v_model.wv.most_similar(positive=[\"suicídio\", \"depressão\"])"
   ]
  },
  {
   "cell_type": "code",
   "execution_count": 13,
   "id": "5b2ef90b",
   "metadata": {},
   "outputs": [
    {
     "data": {
      "text/plain": [
       "[('social', 0.5459948778152466),\n",
       " ('avpd', 0.5377596020698547),\n",
       " ('pânico', 0.5075700879096985),\n",
       " ('prescrevi', 0.5062640905380249),\n",
       " ('diagnosticado', 0.5038084387779236),\n",
       " ('ataques', 0.5024560689926147),\n",
       " ('oxalato', 0.48530519008636475),\n",
       " ('sudorese', 0.4812137186527252),\n",
       " ('ansiedadeansiedade', 0.4810433089733124),\n",
       " ('transpiração', 0.4777202308177948)]"
      ]
     },
     "execution_count": 13,
     "metadata": {},
     "output_type": "execute_result"
    }
   ],
   "source": [
    "# depressão + ansiedade - suicídio\n",
    "w2v_model.wv.most_similar(positive=[\"depressão\", \"ansiedade\"], negative=['suicídio'])"
   ]
  },
  {
   "cell_type": "code",
   "execution_count": 14,
   "id": "62f65c26",
   "metadata": {},
   "outputs": [
    {
     "data": {
      "text/plain": [
       "[('mental', 0.7027981281280518),\n",
       " ('terapeuta', 0.6133944392204285),\n",
       " ('psiquiatra', 0.6069098114967346),\n",
       " ('terapia', 0.5947378277778625),\n",
       " ('médico', 0.5824423432350159),\n",
       " ('consultar', 0.532044529914856),\n",
       " ('ajuda', 0.5313453078269958),\n",
       " ('terapeutaconselheiro', 0.5214629173278809),\n",
       " ('postinho', 0.5203996300697327),\n",
       " ('avpd', 0.5180386304855347)]"
      ]
     },
     "execution_count": 14,
     "metadata": {},
     "output_type": "execute_result"
    }
   ],
   "source": [
    "# psicólogo + saúde\n",
    "w2v_model.wv.most_similar(positive=[\"psicólogo\", \"saúde\"])"
   ]
  },
  {
   "cell_type": "markdown",
   "id": "a6dca814",
   "metadata": {},
   "source": [
    "## Modelo Doc2Vec\n",
    "### Treinamento"
   ]
  },
  {
   "cell_type": "code",
   "execution_count": 15,
   "id": "7b7dbf6b",
   "metadata": {},
   "outputs": [
    {
     "name": "stderr",
     "output_type": "stream",
     "text": [
      "2025-10-19 23:46:00,939 : INFO : Doc2Vec lifecycle event {'params': 'Doc2Vec<dm/m,d300,n5,w5,mc5,s0.001,t3>', 'datetime': '2025-10-19T23:46:00.939496', 'gensim': '4.4.0', 'python': '3.11.2 (main, Apr 28 2025, 14:11:48) [GCC 12.2.0]', 'platform': 'Linux-6.1.0-40-amd64-x86_64-with-glibc2.36', 'event': 'created'}\n",
      "2025-10-19 23:46:00,940 : INFO : collecting all words and their counts\n",
      "2025-10-19 23:46:00,940 : INFO : PROGRESS: at example #0, processed 0 words (0 words/s), 0 word types, 0 tags\n",
      "2025-10-19 23:46:01,014 : INFO : PROGRESS: at example #10000, processed 609329 words (8317964 words/s), 39103 word types, 10000 tags\n",
      "2025-10-19 23:46:01,102 : INFO : PROGRESS: at example #20000, processed 1203381 words (6757543 words/s), 56838 word types, 20000 tags\n",
      "2025-10-19 23:46:01,317 : INFO : PROGRESS: at example #30000, processed 1810721 words (2835873 words/s), 71456 word types, 30000 tags\n",
      "2025-10-19 23:46:01,400 : INFO : PROGRESS: at example #40000, processed 2414286 words (7262662 words/s), 84054 word types, 40000 tags\n",
      "2025-10-19 23:46:01,491 : INFO : PROGRESS: at example #50000, processed 3022407 words (6780720 words/s), 95615 word types, 50000 tags\n",
      "2025-10-19 23:46:01,632 : INFO : collected 96724 word types and 50967 unique tags from a corpus of 50967 examples and 3081926 words\n",
      "2025-10-19 23:46:01,632 : INFO : Creating a fresh vocabulary\n",
      "2025-10-19 23:46:01,687 : INFO : Doc2Vec lifecycle event {'msg': 'effective_min_count=5 retains 23082 unique words (23.86% of original 96724, drops 73642)', 'datetime': '2025-10-19T23:46:01.687261', 'gensim': '4.4.0', 'python': '3.11.2 (main, Apr 28 2025, 14:11:48) [GCC 12.2.0]', 'platform': 'Linux-6.1.0-40-amd64-x86_64-with-glibc2.36', 'event': 'prepare_vocab'}\n",
      "2025-10-19 23:46:01,687 : INFO : Doc2Vec lifecycle event {'msg': 'effective_min_count=5 leaves 2977868 word corpus (96.62% of original 3081926, drops 104058)', 'datetime': '2025-10-19T23:46:01.687725', 'gensim': '4.4.0', 'python': '3.11.2 (main, Apr 28 2025, 14:11:48) [GCC 12.2.0]', 'platform': 'Linux-6.1.0-40-amd64-x86_64-with-glibc2.36', 'event': 'prepare_vocab'}\n",
      "2025-10-19 23:46:01,752 : INFO : deleting the raw counts dictionary of 96724 items\n",
      "2025-10-19 23:46:01,754 : INFO : sample=0.001 downsamples 30 most-common words\n",
      "2025-10-19 23:46:01,755 : INFO : Doc2Vec lifecycle event {'msg': 'downsampling leaves estimated 2874933.2063351665 word corpus (96.5%% of prior 2977868)', 'datetime': '2025-10-19T23:46:01.755214', 'gensim': '4.4.0', 'python': '3.11.2 (main, Apr 28 2025, 14:11:48) [GCC 12.2.0]', 'platform': 'Linux-6.1.0-40-amd64-x86_64-with-glibc2.36', 'event': 'prepare_vocab'}\n",
      "2025-10-19 23:46:01,861 : INFO : estimated required memory for 23082 words and 300 dimensions: 138291600 bytes\n",
      "2025-10-19 23:46:01,861 : INFO : resetting layer weights\n",
      "2025-10-19 23:46:01,931 : INFO : Doc2Vec lifecycle event {'msg': 'training model with 3 workers on 23082 vocabulary and 300 features, using sg=0 hs=0 sample=0.001 negative=5 window=5 shrink_windows=True', 'datetime': '2025-10-19T23:46:01.931958', 'gensim': '4.4.0', 'python': '3.11.2 (main, Apr 28 2025, 14:11:48) [GCC 12.2.0]', 'platform': 'Linux-6.1.0-40-amd64-x86_64-with-glibc2.36', 'event': 'train'}\n"
     ]
    },
    {
     "name": "stdout",
     "output_type": "stream",
     "text": [
      "Time to build vocab: 0.02\n"
     ]
    },
    {
     "name": "stderr",
     "output_type": "stream",
     "text": [
      "2025-10-19 23:46:02,940 : INFO : EPOCH 0 - PROGRESS: at 29.32% examples, 853630 words/s, in_qsize 5, out_qsize 0\n",
      "2025-10-19 23:46:03,948 : INFO : EPOCH 0 - PROGRESS: at 59.70% examples, 865433 words/s, in_qsize 6, out_qsize 0\n",
      "2025-10-19 23:46:04,963 : INFO : EPOCH 0 - PROGRESS: at 90.38% examples, 871166 words/s, in_qsize 6, out_qsize 0\n",
      "2025-10-19 23:46:05,270 : INFO : EPOCH 0: training on 3081926 raw words (2926182 effective words) took 3.3s, 876915 effective words/s\n",
      "2025-10-19 23:46:06,279 : INFO : EPOCH 1 - PROGRESS: at 29.36% examples, 852843 words/s, in_qsize 6, out_qsize 0\n",
      "2025-10-19 23:46:07,294 : INFO : EPOCH 1 - PROGRESS: at 59.40% examples, 857261 words/s, in_qsize 5, out_qsize 0\n",
      "2025-10-19 23:46:08,298 : INFO : EPOCH 1 - PROGRESS: at 89.42% examples, 862543 words/s, in_qsize 5, out_qsize 0\n",
      "2025-10-19 23:46:08,648 : INFO : EPOCH 1: training on 3081926 raw words (2925844 effective words) took 3.4s, 866645 effective words/s\n",
      "2025-10-19 23:46:09,652 : INFO : EPOCH 2 - PROGRESS: at 28.48% examples, 829244 words/s, in_qsize 5, out_qsize 0\n",
      "2025-10-19 23:46:10,654 : INFO : EPOCH 2 - PROGRESS: at 59.40% examples, 865044 words/s, in_qsize 5, out_qsize 0\n",
      "2025-10-19 23:46:11,654 : INFO : EPOCH 2 - PROGRESS: at 88.05% examples, 856350 words/s, in_qsize 5, out_qsize 0\n",
      "2025-10-19 23:46:12,051 : INFO : EPOCH 2: training on 3081926 raw words (2926093 effective words) took 3.4s, 860279 effective words/s\n",
      "2025-10-19 23:46:13,060 : INFO : EPOCH 3 - PROGRESS: at 29.03% examples, 843384 words/s, in_qsize 6, out_qsize 0\n",
      "2025-10-19 23:46:14,064 : INFO : EPOCH 3 - PROGRESS: at 58.53% examples, 848184 words/s, in_qsize 6, out_qsize 0\n",
      "2025-10-19 23:46:15,066 : INFO : EPOCH 3 - PROGRESS: at 89.73% examples, 869423 words/s, in_qsize 6, out_qsize 0\n",
      "2025-10-19 23:46:15,391 : INFO : EPOCH 3: training on 3081926 raw words (2926151 effective words) took 3.3s, 876412 effective words/s\n",
      "2025-10-19 23:46:16,406 : INFO : EPOCH 4 - PROGRESS: at 29.65% examples, 857394 words/s, in_qsize 5, out_qsize 0\n",
      "2025-10-19 23:46:17,421 : INFO : EPOCH 4 - PROGRESS: at 60.95% examples, 878249 words/s, in_qsize 6, out_qsize 0\n",
      "2025-10-19 23:46:18,428 : INFO : EPOCH 4 - PROGRESS: at 93.10% examples, 894462 words/s, in_qsize 5, out_qsize 0\n",
      "2025-10-19 23:46:18,708 : INFO : EPOCH 4: training on 3081926 raw words (2925816 effective words) took 3.3s, 882666 effective words/s\n",
      "2025-10-19 23:46:19,710 : INFO : EPOCH 5 - PROGRESS: at 26.40% examples, 774178 words/s, in_qsize 5, out_qsize 0\n",
      "2025-10-19 23:46:20,711 : INFO : EPOCH 5 - PROGRESS: at 54.18% examples, 791136 words/s, in_qsize 6, out_qsize 0\n",
      "2025-10-19 23:46:21,718 : INFO : EPOCH 5 - PROGRESS: at 82.64% examples, 801969 words/s, in_qsize 5, out_qsize 0\n",
      "2025-10-19 23:46:22,309 : INFO : EPOCH 5: training on 3081926 raw words (2925342 effective words) took 3.6s, 812880 effective words/s\n",
      "2025-10-19 23:46:23,314 : INFO : EPOCH 6 - PROGRESS: at 29.36% examples, 856254 words/s, in_qsize 5, out_qsize 0\n",
      "2025-10-19 23:46:24,324 : INFO : EPOCH 6 - PROGRESS: at 59.03% examples, 856684 words/s, in_qsize 5, out_qsize 0\n",
      "2025-10-19 23:46:25,334 : INFO : EPOCH 6 - PROGRESS: at 88.34% examples, 854167 words/s, in_qsize 5, out_qsize 0\n",
      "2025-10-19 23:46:25,730 : INFO : EPOCH 6: training on 3081926 raw words (2925727 effective words) took 3.4s, 855730 effective words/s\n",
      "2025-10-19 23:46:26,745 : INFO : EPOCH 7 - PROGRESS: at 28.48% examples, 819167 words/s, in_qsize 6, out_qsize 0\n",
      "2025-10-19 23:46:27,766 : INFO : EPOCH 7 - PROGRESS: at 58.20% examples, 833865 words/s, in_qsize 6, out_qsize 0\n",
      "2025-10-19 23:46:28,784 : INFO : EPOCH 7 - PROGRESS: at 89.06% examples, 852056 words/s, in_qsize 5, out_qsize 0\n",
      "2025-10-19 23:46:29,134 : INFO : EPOCH 7: training on 3081926 raw words (2925759 effective words) took 3.4s, 859781 effective words/s\n",
      "2025-10-19 23:46:30,140 : INFO : EPOCH 8 - PROGRESS: at 29.03% examples, 846185 words/s, in_qsize 5, out_qsize 0\n",
      "2025-10-19 23:46:31,141 : INFO : EPOCH 8 - PROGRESS: at 59.70% examples, 869551 words/s, in_qsize 5, out_qsize 0\n",
      "2025-10-19 23:46:32,148 : INFO : EPOCH 8 - PROGRESS: at 91.09% examples, 882397 words/s, in_qsize 6, out_qsize 0\n",
      "2025-10-19 23:46:32,454 : INFO : EPOCH 8: training on 3081926 raw words (2925708 effective words) took 3.3s, 881887 effective words/s\n",
      "2025-10-19 23:46:33,456 : INFO : EPOCH 9 - PROGRESS: at 31.00% examples, 905480 words/s, in_qsize 5, out_qsize 0\n",
      "2025-10-19 23:46:34,457 : INFO : EPOCH 9 - PROGRESS: at 61.91% examples, 904061 words/s, in_qsize 5, out_qsize 0\n",
      "2025-10-19 23:46:35,458 : INFO : EPOCH 9 - PROGRESS: at 92.74% examples, 901006 words/s, in_qsize 5, out_qsize 0\n",
      "2025-10-19 23:46:35,706 : INFO : EPOCH 9: training on 3081926 raw words (2925570 effective words) took 3.3s, 900044 effective words/s\n",
      "2025-10-19 23:46:36,711 : INFO : EPOCH 10 - PROGRESS: at 26.04% examples, 762602 words/s, in_qsize 6, out_qsize 0\n",
      "2025-10-19 23:46:37,716 : INFO : EPOCH 10 - PROGRESS: at 53.86% examples, 783798 words/s, in_qsize 6, out_qsize 0\n",
      "2025-10-19 23:46:38,731 : INFO : EPOCH 10 - PROGRESS: at 83.26% examples, 804115 words/s, in_qsize 5, out_qsize 0\n",
      "2025-10-19 23:46:39,362 : INFO : EPOCH 10: training on 3081926 raw words (2925705 effective words) took 3.7s, 800568 effective words/s\n",
      "2025-10-19 23:46:40,367 : INFO : EPOCH 11 - PROGRESS: at 31.31% examples, 913180 words/s, in_qsize 5, out_qsize 0\n",
      "2025-10-19 23:46:41,369 : INFO : EPOCH 11 - PROGRESS: at 61.59% examples, 897986 words/s, in_qsize 5, out_qsize 0\n",
      "2025-10-19 23:46:42,373 : INFO : EPOCH 11 - PROGRESS: at 91.09% examples, 883415 words/s, in_qsize 5, out_qsize 0\n",
      "2025-10-19 23:46:42,685 : INFO : EPOCH 11: training on 3081926 raw words (2925914 effective words) took 3.3s, 880970 effective words/s\n",
      "2025-10-19 23:46:43,689 : INFO : EPOCH 12 - PROGRESS: at 30.33% examples, 885573 words/s, in_qsize 5, out_qsize 0\n",
      "2025-10-19 23:46:44,690 : INFO : EPOCH 12 - PROGRESS: at 58.53% examples, 851701 words/s, in_qsize 5, out_qsize 0\n",
      "2025-10-19 23:46:45,692 : INFO : EPOCH 12 - PROGRESS: at 89.06% examples, 865624 words/s, in_qsize 6, out_qsize 0\n",
      "2025-10-19 23:46:46,098 : INFO : EPOCH 12: training on 3081926 raw words (2926147 effective words) took 3.4s, 857998 effective words/s\n",
      "2025-10-19 23:46:47,103 : INFO : EPOCH 13 - PROGRESS: at 27.10% examples, 790472 words/s, in_qsize 5, out_qsize 0\n",
      "2025-10-19 23:46:48,104 : INFO : EPOCH 13 - PROGRESS: at 56.87% examples, 827568 words/s, in_qsize 6, out_qsize 0\n",
      "2025-10-19 23:46:49,123 : INFO : EPOCH 13 - PROGRESS: at 87.45% examples, 844790 words/s, in_qsize 5, out_qsize 0\n",
      "2025-10-19 23:46:49,557 : INFO : EPOCH 13: training on 3081926 raw words (2925917 effective words) took 3.5s, 846300 effective words/s\n",
      "2025-10-19 23:46:50,559 : INFO : EPOCH 14 - PROGRESS: at 29.03% examples, 849504 words/s, in_qsize 6, out_qsize 0\n",
      "2025-10-19 23:46:51,561 : INFO : EPOCH 14 - PROGRESS: at 59.03% examples, 861763 words/s, in_qsize 6, out_qsize 0\n",
      "2025-10-19 23:46:52,563 : INFO : EPOCH 14 - PROGRESS: at 89.42% examples, 869147 words/s, in_qsize 5, out_qsize 0\n",
      "2025-10-19 23:46:52,916 : INFO : EPOCH 14: training on 3081926 raw words (2926092 effective words) took 3.4s, 871748 effective words/s\n",
      "2025-10-19 23:46:53,928 : INFO : EPOCH 15 - PROGRESS: at 30.68% examples, 888064 words/s, in_qsize 5, out_qsize 0\n",
      "2025-10-19 23:46:54,931 : INFO : EPOCH 15 - PROGRESS: at 60.95% examples, 885048 words/s, in_qsize 6, out_qsize 0\n",
      "2025-10-19 23:46:55,935 : INFO : EPOCH 15 - PROGRESS: at 92.13% examples, 890534 words/s, in_qsize 5, out_qsize 0\n",
      "2025-10-19 23:46:56,177 : INFO : EPOCH 15: training on 3081926 raw words (2926049 effective words) took 3.3s, 897813 effective words/s\n",
      "2025-10-19 23:46:57,181 : INFO : EPOCH 16 - PROGRESS: at 31.00% examples, 904193 words/s, in_qsize 6, out_qsize 0\n",
      "2025-10-19 23:46:58,195 : INFO : EPOCH 16 - PROGRESS: at 61.59% examples, 893076 words/s, in_qsize 5, out_qsize 0\n",
      "2025-10-19 23:46:59,210 : INFO : EPOCH 16 - PROGRESS: at 92.43% examples, 889330 words/s, in_qsize 6, out_qsize 0\n",
      "2025-10-19 23:46:59,472 : INFO : EPOCH 16: training on 3081926 raw words (2926207 effective words) took 3.3s, 888582 effective words/s\n",
      "2025-10-19 23:47:00,479 : INFO : EPOCH 17 - PROGRESS: at 30.34% examples, 882987 words/s, in_qsize 5, out_qsize 0\n",
      "2025-10-19 23:47:01,486 : INFO : EPOCH 17 - PROGRESS: at 60.02% examples, 871001 words/s, in_qsize 6, out_qsize 0\n",
      "2025-10-19 23:47:02,492 : INFO : EPOCH 17 - PROGRESS: at 90.06% examples, 871137 words/s, in_qsize 6, out_qsize 0\n",
      "2025-10-19 23:47:02,845 : INFO : EPOCH 17: training on 3081926 raw words (2925721 effective words) took 3.4s, 868005 effective words/s\n",
      "2025-10-19 23:47:03,854 : INFO : EPOCH 18 - PROGRESS: at 28.80% examples, 833614 words/s, in_qsize 6, out_qsize 0\n",
      "2025-10-19 23:47:04,864 : INFO : EPOCH 18 - PROGRESS: at 60.02% examples, 869032 words/s, in_qsize 6, out_qsize 0\n",
      "2025-10-19 23:47:05,880 : INFO : EPOCH 18 - PROGRESS: at 91.09% examples, 876384 words/s, in_qsize 6, out_qsize 0\n",
      "2025-10-19 23:47:06,179 : INFO : EPOCH 18: training on 3081926 raw words (2926312 effective words) took 3.3s, 878057 effective words/s\n",
      "2025-10-19 23:47:07,184 : INFO : EPOCH 19 - PROGRESS: at 30.33% examples, 883476 words/s, in_qsize 5, out_qsize 0\n",
      "2025-10-19 23:47:08,195 : INFO : EPOCH 19 - PROGRESS: at 61.23% examples, 888662 words/s, in_qsize 6, out_qsize 0\n",
      "2025-10-19 23:47:09,211 : INFO : EPOCH 19 - PROGRESS: at 91.81% examples, 883197 words/s, in_qsize 5, out_qsize 0\n",
      "2025-10-19 23:47:09,480 : INFO : EPOCH 19: training on 3081926 raw words (2925607 effective words) took 3.3s, 886798 effective words/s\n",
      "2025-10-19 23:47:10,483 : INFO : EPOCH 20 - PROGRESS: at 29.65% examples, 866843 words/s, in_qsize 6, out_qsize 0\n",
      "2025-10-19 23:47:11,486 : INFO : EPOCH 20 - PROGRESS: at 59.03% examples, 860189 words/s, in_qsize 5, out_qsize 0\n",
      "2025-10-19 23:47:12,496 : INFO : EPOCH 20 - PROGRESS: at 89.42% examples, 866011 words/s, in_qsize 6, out_qsize 0\n",
      "2025-10-19 23:47:12,875 : INFO : EPOCH 20: training on 3081926 raw words (2925981 effective words) took 3.4s, 862366 effective words/s\n",
      "2025-10-19 23:47:13,879 : INFO : EPOCH 21 - PROGRESS: at 32.01% examples, 931836 words/s, in_qsize 5, out_qsize 0\n",
      "2025-10-19 23:47:14,890 : INFO : EPOCH 21 - PROGRESS: at 63.85% examples, 926757 words/s, in_qsize 6, out_qsize 0\n",
      "2025-10-19 23:47:15,890 : INFO : EPOCH 21 - PROGRESS: at 94.00% examples, 909869 words/s, in_qsize 5, out_qsize 0\n",
      "2025-10-19 23:47:16,084 : INFO : EPOCH 21: training on 3081926 raw words (2925832 effective words) took 3.2s, 912075 effective words/s\n",
      "2025-10-19 23:47:17,100 : INFO : EPOCH 22 - PROGRESS: at 31.34% examples, 902206 words/s, in_qsize 6, out_qsize 0\n",
      "2025-10-19 23:47:18,114 : INFO : EPOCH 22 - PROGRESS: at 62.27% examples, 897074 words/s, in_qsize 6, out_qsize 0\n",
      "2025-10-19 23:47:19,129 : INFO : EPOCH 22 - PROGRESS: at 93.40% examples, 894939 words/s, in_qsize 5, out_qsize 0\n",
      "2025-10-19 23:47:19,357 : INFO : EPOCH 22: training on 3081926 raw words (2925777 effective words) took 3.3s, 894262 effective words/s\n",
      "2025-10-19 23:47:20,363 : INFO : EPOCH 23 - PROGRESS: at 31.00% examples, 902207 words/s, in_qsize 5, out_qsize 0\n",
      "2025-10-19 23:47:21,371 : INFO : EPOCH 23 - PROGRESS: at 62.27% examples, 904196 words/s, in_qsize 6, out_qsize 0\n",
      "2025-10-19 23:47:22,372 : INFO : EPOCH 23 - PROGRESS: at 92.74% examples, 897942 words/s, in_qsize 6, out_qsize 0\n",
      "2025-10-19 23:47:22,623 : INFO : EPOCH 23: training on 3081926 raw words (2926047 effective words) took 3.3s, 896343 effective words/s\n",
      "2025-10-19 23:47:23,637 : INFO : EPOCH 24 - PROGRESS: at 29.98% examples, 867976 words/s, in_qsize 5, out_qsize 0\n",
      "2025-10-19 23:47:24,643 : INFO : EPOCH 24 - PROGRESS: at 60.02% examples, 868766 words/s, in_qsize 6, out_qsize 0\n",
      "2025-10-19 23:47:25,652 : INFO : EPOCH 24 - PROGRESS: at 90.72% examples, 875091 words/s, in_qsize 6, out_qsize 0\n",
      "2025-10-19 23:47:25,972 : INFO : EPOCH 24: training on 3081926 raw words (2926047 effective words) took 3.3s, 874231 effective words/s\n",
      "2025-10-19 23:47:26,979 : INFO : EPOCH 25 - PROGRESS: at 29.65% examples, 864309 words/s, in_qsize 6, out_qsize 0\n",
      "2025-10-19 23:47:27,989 : INFO : EPOCH 25 - PROGRESS: at 59.40% examples, 860606 words/s, in_qsize 6, out_qsize 0\n",
      "2025-10-19 23:47:28,990 : INFO : EPOCH 25 - PROGRESS: at 89.42% examples, 865788 words/s, in_qsize 6, out_qsize 0\n",
      "2025-10-19 23:47:29,320 : INFO : EPOCH 25: training on 3081926 raw words (2926050 effective words) took 3.3s, 874438 effective words/s\n",
      "2025-10-19 23:47:30,326 : INFO : EPOCH 26 - PROGRESS: at 28.80% examples, 837136 words/s, in_qsize 5, out_qsize 0\n",
      "2025-10-19 23:47:31,340 : INFO : EPOCH 26 - PROGRESS: at 59.33% examples, 859458 words/s, in_qsize 5, out_qsize 0\n",
      "2025-10-19 23:47:32,359 : INFO : EPOCH 26 - PROGRESS: at 90.06% examples, 866082 words/s, in_qsize 5, out_qsize 0\n",
      "2025-10-19 23:47:32,701 : INFO : EPOCH 26: training on 3081926 raw words (2926307 effective words) took 3.4s, 865919 effective words/s\n",
      "2025-10-19 23:47:33,713 : INFO : EPOCH 27 - PROGRESS: at 29.98% examples, 868820 words/s, in_qsize 5, out_qsize 0\n",
      "2025-10-19 23:47:34,725 : INFO : EPOCH 27 - PROGRESS: at 58.20% examples, 839204 words/s, in_qsize 6, out_qsize 0\n",
      "2025-10-19 23:47:35,738 : INFO : EPOCH 27 - PROGRESS: at 86.48% examples, 832180 words/s, in_qsize 5, out_qsize 0\n",
      "2025-10-19 23:47:36,291 : INFO : EPOCH 27: training on 3081926 raw words (2926090 effective words) took 3.6s, 815477 effective words/s\n",
      "2025-10-19 23:47:37,298 : INFO : EPOCH 28 - PROGRESS: at 30.33% examples, 882285 words/s, in_qsize 6, out_qsize 0\n",
      "2025-10-19 23:47:38,299 : INFO : EPOCH 28 - PROGRESS: at 60.61% examples, 882970 words/s, in_qsize 5, out_qsize 0\n",
      "2025-10-19 23:47:39,328 : INFO : EPOCH 28 - PROGRESS: at 90.40% examples, 869494 words/s, in_qsize 5, out_qsize 0\n",
      "2025-10-19 23:47:39,628 : INFO : EPOCH 28: training on 3081926 raw words (2925239 effective words) took 3.3s, 877151 effective words/s\n",
      "2025-10-19 23:47:40,631 : INFO : EPOCH 29 - PROGRESS: at 30.64% examples, 895112 words/s, in_qsize 5, out_qsize 0\n",
      "2025-10-19 23:47:41,632 : INFO : EPOCH 29 - PROGRESS: at 59.70% examples, 870947 words/s, in_qsize 5, out_qsize 0\n",
      "2025-10-19 23:47:42,635 : INFO : EPOCH 29 - PROGRESS: at 89.06% examples, 865781 words/s, in_qsize 5, out_qsize 0\n",
      "2025-10-19 23:47:43,028 : INFO : EPOCH 29: training on 3081926 raw words (2926207 effective words) took 3.4s, 861193 effective words/s\n",
      "2025-10-19 23:47:43,029 : INFO : Doc2Vec lifecycle event {'msg': 'training on 92457780 raw words (87777440 effective words) took 101.1s, 868252 effective words/s', 'datetime': '2025-10-19T23:47:43.029192', 'gensim': '4.4.0', 'python': '3.11.2 (main, Apr 28 2025, 14:11:48) [GCC 12.2.0]', 'platform': 'Linux-6.1.0-40-amd64-x86_64-with-glibc2.36', 'event': 'train'}\n",
      "2025-10-19 23:47:43,029 : INFO : Doc2Vec lifecycle event {'fname_or_handle': '../models/doc2vec_model.model', 'separately': 'None', 'sep_limit': 10485760, 'ignore': frozenset(), 'datetime': '2025-10-19T23:47:43.029829', 'gensim': '4.4.0', 'python': '3.11.2 (main, Apr 28 2025, 14:11:48) [GCC 12.2.0]', 'platform': 'Linux-6.1.0-40-amd64-x86_64-with-glibc2.36', 'event': 'saving'}\n",
      "2025-10-19 23:47:43,030 : INFO : storing np array 'vectors' to ../models/doc2vec_model.model.dv.vectors.npy\n",
      "2025-10-19 23:47:43,059 : INFO : not storing attribute cum_table\n",
      "2025-10-19 23:47:43,157 : INFO : saved ../models/doc2vec_model.model\n"
     ]
    },
    {
     "name": "stdout",
     "output_type": "stream",
     "text": [
      "Time to train the model: 1.68 mins\n"
     ]
    }
   ],
   "source": [
    "# Para treinar o modelo, será necessário associar uma tag/número com cada documento do corpus\n",
    "documents = [TaggedDocument(words=tokens, tags=[str(i)]) for i, tokens in enumerate(corpus)]\n",
    "\n",
    "d2v_model = Doc2Vec(\n",
    "    vector_size=300,\n",
    "    window=5,\n",
    "    min_count=5,\n",
    "    epochs=30\n",
    ")\n",
    "\n",
    "t = time()\n",
    "d2v_model.build_vocab(documents, progress_per=10000)\n",
    "print(f'Time to build vocab: {round((time() - t) / 60, 2)}')\n",
    "\n",
    "t = time()\n",
    "d2v_model.train(documents, total_examples=d2v_model.corpus_count, epochs=d2v_model.epochs, report_delay=1)\n",
    "print(f'Time to train the model: {round((time() - t) / 60, 2)} mins')\n",
    "\n",
    "d2v_model.save('../models/doc2vec_model.model')"
   ]
  },
  {
   "cell_type": "markdown",
   "id": "44792cc1",
   "metadata": {},
   "source": [
    "### Exploração semântica\n",
    "Montando queries para comparar com os documentos do corpus."
   ]
  },
  {
   "cell_type": "code",
   "execution_count": 16,
   "id": "5571414d",
   "metadata": {},
   "outputs": [],
   "source": [
    "query = ['sentir', 'ansioso', 'trabalho']\n",
    "# Infere-se um vetor de similaridade para a query utilizando o modelo.\n",
    "query_vector = d2v_model.infer_vector(query)"
   ]
  },
  {
   "cell_type": "code",
   "execution_count": 17,
   "id": "a13ae4a4",
   "metadata": {},
   "outputs": [
    {
     "name": "stdout",
     "output_type": "stream",
     "text": [
      "Documento 40274 -> Similaridade: 0.7684020400047302 <<alguma dica ansiedade trabalho poderia usar alguns conselhos>>\n",
      "Documento 26034 -> Similaridade: 0.7527951002120972 <<acompanho trabalho desde início 5potssempre fãabraço>>\n",
      "Documento 16062 -> Similaridade: 0.7368998527526855 <<ótima vida filhos esposa trabalho carreira resta arrependimento>>\n",
      "Documento 50087 -> Similaridade: 0.7305425405502319 <<desmoronei trabalho recuperar disso>>\n",
      "Documento 40747 -> Similaridade: 0.7222082614898682 <<patrão fica precarizando trabalho fuder>>\n"
     ]
    }
   ],
   "source": [
    "similar_docs = d2v_model.dv.most_similar([query_vector], topn=5)\n",
    "for tag, similarity in similar_docs:\n",
    "    print(f\"Documento {tag} -> Similaridade: {similarity} <<{' '.join(documents[int(tag)].words)}>>\")"
   ]
  }
 ],
 "metadata": {
  "kernelspec": {
   "display_name": ".venv (3.11.2)",
   "language": "python",
   "name": "python3"
  },
  "language_info": {
   "codemirror_mode": {
    "name": "ipython",
    "version": 3
   },
   "file_extension": ".py",
   "mimetype": "text/x-python",
   "name": "python",
   "nbconvert_exporter": "python",
   "pygments_lexer": "ipython3",
   "version": "3.11.2"
  }
 },
 "nbformat": 4,
 "nbformat_minor": 5
}
