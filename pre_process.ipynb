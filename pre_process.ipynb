{
 "cells": [
  {
   "cell_type": "markdown",
   "id": "b4c4da2d",
   "metadata": {},
   "source": [
    "# PLN - Pré-processamento de texto\n",
    "Os passos da *pipeline* foram baseados no seguinte artigo:\n",
    "- [https://sol.sbc.org.br/index.php/stil/article/download/31163/30966/](https://sol.sbc.org.br/index.php/stil/article/download/31163/30966/)"
   ]
  },
  {
   "cell_type": "code",
   "execution_count": null,
   "id": "fbfc93cd",
   "metadata": {},
   "outputs": [],
   "source": [
    "import pandas as pd\n",
    "\n",
    "# Importar o corpus de um arquivo CSV\n",
    "df = pd.read_csv('data/DepreRedditBR.csv')\n",
    "\n",
    "# Flag utilizada para definir se a ferramenta Enelvo será utilizada ou não\n",
    "USE_ENELVO = False"
   ]
  },
  {
   "cell_type": "markdown",
   "id": "31acd85d",
   "metadata": {},
   "source": [
    "## Show the dataframe"
   ]
  },
  {
   "cell_type": "code",
   "execution_count": null,
   "id": "427ef3bf",
   "metadata": {},
   "outputs": [
    {
     "data": {
      "text/html": [
       "<div>\n",
       "<style scoped>\n",
       "    .dataframe tbody tr th:only-of-type {\n",
       "        vertical-align: middle;\n",
       "    }\n",
       "\n",
       "    .dataframe tbody tr th {\n",
       "        vertical-align: top;\n",
       "    }\n",
       "\n",
       "    .dataframe thead th {\n",
       "        text-align: right;\n",
       "    }\n",
       "</style>\n",
       "<table border=\"1\" class=\"dataframe\">\n",
       "  <thead>\n",
       "    <tr style=\"text-align: right;\">\n",
       "      <th></th>\n",
       "      <th>text</th>\n",
       "    </tr>\n",
       "  </thead>\n",
       "  <tbody>\n",
       "    <tr>\n",
       "      <th>208601</th>\n",
       "      <td>não há nada que eu queira mais do que voltar n...</td>\n",
       "    </tr>\n",
       "    <tr>\n",
       "      <th>462528</th>\n",
       "      <td>Lidando com mudanças de humor Tenho tido muita...</td>\n",
       "    </tr>\n",
       "    <tr>\n",
       "      <th>76680</th>\n",
       "      <td>Se sua noiva não usar com voce, ja sabe. Não p...</td>\n",
       "    </tr>\n",
       "    <tr>\n",
       "      <th>359032</th>\n",
       "      <td>muitas vezes não consigo trabalhar cerca de um...</td>\n",
       "    </tr>\n",
       "    <tr>\n",
       "      <th>353889</th>\n",
       "      <td>quais são suas ações quando você está se senti...</td>\n",
       "    </tr>\n",
       "  </tbody>\n",
       "</table>\n",
       "</div>"
      ],
      "text/plain": [
       "                                                     text\n",
       "208601  não há nada que eu queira mais do que voltar n...\n",
       "462528  Lidando com mudanças de humor Tenho tido muita...\n",
       "76680   Se sua noiva não usar com voce, ja sabe. Não p...\n",
       "359032  muitas vezes não consigo trabalhar cerca de um...\n",
       "353889  quais são suas ações quando você está se senti..."
      ]
     },
     "execution_count": 70,
     "metadata": {},
     "output_type": "execute_result"
    }
   ],
   "source": [
    "df.head() # Exibir as primeiras linhas do dataframe"
   ]
  },
  {
   "cell_type": "code",
   "execution_count": null,
   "id": "372aabe6",
   "metadata": {},
   "outputs": [],
   "source": [
    "# Obter uma amostra do corpus (frac -> de 0 a 1)\n",
    "df = df.sample(frac=0.015, random_state=42)\n",
    "\n",
    "# Obter a única coluna do dataframe: text\n",
    "texts = df.text"
   ]
  },
  {
   "cell_type": "code",
   "execution_count": 72,
   "id": "82a575c1",
   "metadata": {},
   "outputs": [
    {
     "data": {
      "text/plain": [
       "440641    a terapia é destinada apenas a pessoas com din...\n",
       "369918    outra estatística, estive em uma situação muit...\n",
       "421097    perder alguém que você realmente amava. minha ...\n",
       "377142    eu vou, mas não vou. (13 homens) não entendo o...\n",
       "497152    eu preciso desaparecer da vida das pessoas, já...\n",
       "                                ...                        \n",
       "279416    Estou em uma situação muito estranha onde idea...\n",
       "441456    irmã esquizofrenia questiona informações básic...\n",
       "471791    não consigo nem vencer quando ganho, me sinto ...\n",
       "87538     Você se livrou, deveria agradecer. Agora vai t...\n",
       "385652    Escrevi uma nota de suicídio e estou sentado a...\n",
       "Name: text, Length: 115, dtype: object"
      ]
     },
     "execution_count": 72,
     "metadata": {},
     "output_type": "execute_result"
    }
   ],
   "source": [
    "texts"
   ]
  },
  {
   "cell_type": "markdown",
   "id": "cbbb0145",
   "metadata": {},
   "source": [
    "## Opcional - Utilizano o Enelvo para normalizar aspectos do corpus\n",
    "A normalização com Enelvo trata de aspectos como erros ortográficos, gírias, siglas e outros detalhes.\n",
    "\n",
    "A substituição das virgulas por uma *label* temporária é feita para contornar "
   ]
  },
  {
   "cell_type": "code",
   "execution_count": null,
   "id": "2389a8eb",
   "metadata": {},
   "outputs": [],
   "source": [
    "\n",
    "if USE_ENELVO:\n",
    "    # Enelvo (https://thalesbertaglia.com/enelvo/)\n",
    "    from enelvo.normaliser import Normaliser\n",
    "\n",
    "    # Substituir as vírgulas pela label 'chavevirg' para evitar conflitos durante a normalização do texto\n",
    "    texts = texts.apply(lambda text: text.replace(r',', 'chavevirg'))\n",
    "    texts.values\n",
    "\n",
    "    # Criar uma instância do normalizador\n",
    "    normaliser_instance = Normaliser(tokenizer='readable')\n",
    "    # Aplicar a normalização com Enelvo para os textos do corpus\n",
    "    texts = texts.apply(lambda text: normaliser_instance.normalise(text))"
   ]
  },
  {
   "cell_type": "markdown",
   "id": "6135754a",
   "metadata": {},
   "source": [
    "## Remoção de URLs"
   ]
  },
  {
   "cell_type": "code",
   "execution_count": null,
   "id": "6526fba4",
   "metadata": {},
   "outputs": [
    {
     "data": {
      "text/plain": [
       "329207    ansiedade e tonturachavevirg alguém mais sente...\n",
       "397553    sentado aqui pensando em acabar com tudo . dói...\n",
       "279961    eu nem deveria ter acordado hoje . e ainda ass...\n",
       "137777    imediatamente ligo meu computador pessoalchave...\n",
       "275451    não há nada de errado na minha vidachavevirg m...\n",
       "30873     obrigado pela sinceridade ! os melhores textos...\n",
       "392560    eichavevirg estou conversando com esse cara na...\n",
       "445733    mania induzida por corticosteroideschavevirg e...\n",
       "Name: text, dtype: object"
      ]
     },
     "execution_count": 64,
     "metadata": {},
     "output_type": "execute_result"
    }
   ],
   "source": [
    "import re\n",
    "# Remove URLs if there is any\n",
    "texts = texts.apply(lambda text: re.sub(r'http\\S+', '', text))\n",
    "\n",
    "if USE_ENELVO:\n",
    "    # Reverter a substituição de vírgulas\n",
    "    texts = texts.apply(lambda text: text.replace('chavevirg', ','))\n",
    "\n",
    "texts"
   ]
  },
  {
   "cell_type": "markdown",
   "id": "e39d5cf0",
   "metadata": {},
   "source": [
    "## Remoção de pontuação\n",
    "A remoção de pontuação visa a redução do ruído (mantendo apenas as palavras que importam) e aumenta a eficiência do processamento.\n",
    "É importante frisar que a pontuação **NÃO** é removida quando faz parte de *hashtags*, datas ou números com vírgula."
   ]
  },
  {
   "cell_type": "code",
   "execution_count": null,
   "id": "7cf8b7fd",
   "metadata": {},
   "outputs": [],
   "source": [
    "texts = texts.apply()"
   ]
  }
 ],
 "metadata": {
  "kernelspec": {
   "display_name": ".venv (3.11.2)",
   "language": "python",
   "name": "python3"
  },
  "language_info": {
   "codemirror_mode": {
    "name": "ipython",
    "version": 3
   },
   "file_extension": ".py",
   "mimetype": "text/x-python",
   "name": "python",
   "nbconvert_exporter": "python",
   "pygments_lexer": "ipython3",
   "version": "3.11.2"
  }
 },
 "nbformat": 4,
 "nbformat_minor": 5
}
