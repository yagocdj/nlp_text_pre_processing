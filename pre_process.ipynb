{
 "cells": [
  {
   "cell_type": "markdown",
   "id": "b4c4da2d",
   "metadata": {},
   "source": [
    "# PLN - Pré-processamento de texto\n",
    "Os passos da *pipeline* foram baseados no seguinte artigo:\n",
    "- [https://sol.sbc.org.br/index.php/stil/article/download/31163/30966/](https://sol.sbc.org.br/index.php/stil/article/download/31163/30966/)"
   ]
  },
  {
   "cell_type": "code",
   "execution_count": 16,
   "id": "fbfc93cd",
   "metadata": {},
   "outputs": [
    {
     "data": {
      "text/plain": [
       "(509669, 1)"
      ]
     },
     "execution_count": 16,
     "metadata": {},
     "output_type": "execute_result"
    }
   ],
   "source": [
    "import pandas as pd\n",
    "import nltk\n",
    "from nltk.corpus import stopwords\n",
    "\n",
    "# Importar o corpus de um arquivo CSV\n",
    "df = pd.read_csv('data/DepreRedditBR.csv')\n",
    "\n",
    "# Flag utilizada para definir se a ferramenta Enelvo será utilizada ou não\n",
    "USE_ENELVO = False\n",
    "\n",
    "df.shape"
   ]
  },
  {
   "cell_type": "markdown",
   "id": "31acd85d",
   "metadata": {},
   "source": [
    "## Exibir o dataframe"
   ]
  },
  {
   "cell_type": "code",
   "execution_count": 17,
   "id": "427ef3bf",
   "metadata": {},
   "outputs": [
    {
     "data": {
      "text/html": [
       "<div>\n",
       "<style scoped>\n",
       "    .dataframe tbody tr th:only-of-type {\n",
       "        vertical-align: middle;\n",
       "    }\n",
       "\n",
       "    .dataframe tbody tr th {\n",
       "        vertical-align: top;\n",
       "    }\n",
       "\n",
       "    .dataframe thead th {\n",
       "        text-align: right;\n",
       "    }\n",
       "</style>\n",
       "<table border=\"1\" class=\"dataframe\">\n",
       "  <thead>\n",
       "    <tr style=\"text-align: right;\">\n",
       "      <th></th>\n",
       "      <th>text</th>\n",
       "    </tr>\n",
       "  </thead>\n",
       "  <tbody>\n",
       "    <tr>\n",
       "      <th>0</th>\n",
       "      <td>Parece que ninguem quer ficar perto de mim, e,...</td>\n",
       "    </tr>\n",
       "    <tr>\n",
       "      <th>1</th>\n",
       "      <td>Eu sou deprimido, porem tem períodos que fico ...</td>\n",
       "    </tr>\n",
       "    <tr>\n",
       "      <th>2</th>\n",
       "      <td>Boa tarde. Bem, é basicamente um desabafo. A v...</td>\n",
       "    </tr>\n",
       "    <tr>\n",
       "      <th>3</th>\n",
       "      <td>Me tirem uma duvida,  ser perfeccionista ao ac...</td>\n",
       "    </tr>\n",
       "    <tr>\n",
       "      <th>4</th>\n",
       "      <td>Oi gente, desculpa o textão, já mandei isso em...</td>\n",
       "    </tr>\n",
       "  </tbody>\n",
       "</table>\n",
       "</div>"
      ],
      "text/plain": [
       "                                                text\n",
       "0  Parece que ninguem quer ficar perto de mim, e,...\n",
       "1  Eu sou deprimido, porem tem períodos que fico ...\n",
       "2  Boa tarde. Bem, é basicamente um desabafo. A v...\n",
       "3  Me tirem uma duvida,  ser perfeccionista ao ac...\n",
       "4  Oi gente, desculpa o textão, já mandei isso em..."
      ]
     },
     "execution_count": 17,
     "metadata": {},
     "output_type": "execute_result"
    }
   ],
   "source": [
    "df.head() # Exibir as primeiras linhas do dataframe"
   ]
  },
  {
   "cell_type": "code",
   "execution_count": 18,
   "id": "372aabe6",
   "metadata": {},
   "outputs": [],
   "source": [
    "# Obter uma amostra do corpus (frac -> de 0 a 1)\n",
    "df = df.sample(frac=0.015, random_state=42)\n",
    "\n",
    "# Obter a única coluna do dataframe: text\n",
    "texts = df.text"
   ]
  },
  {
   "cell_type": "code",
   "execution_count": 19,
   "id": "82a575c1",
   "metadata": {},
   "outputs": [
    {
     "data": {
      "text/plain": [
       "208601    não há nada que eu queira mais do que voltar n...\n",
       "462528    Lidando com mudanças de humor Tenho tido muita...\n",
       "76680     Se sua noiva não usar com voce, ja sabe. Não p...\n",
       "359032    muitas vezes não consigo trabalhar cerca de um...\n",
       "353889    quais são suas ações quando você está se senti...\n",
       "                                ...                        \n",
       "285128    Estou deprimido há mais tempo do que me lembro...\n",
       "244216    efeitos colaterais do wellbutrin, espero não e...\n",
       "130960                                       Q fita em mano\n",
       "307709    lidar com a ansiedade enquanto o marido está f...\n",
       "48159     Seu namorado está com dependência emocional de...\n",
       "Name: text, Length: 7645, dtype: object"
      ]
     },
     "execution_count": 19,
     "metadata": {},
     "output_type": "execute_result"
    }
   ],
   "source": [
    "texts"
   ]
  },
  {
   "cell_type": "markdown",
   "id": "cbbb0145",
   "metadata": {},
   "source": [
    "## Opcional - Utilizano o Enelvo para normalizar aspectos do corpus\n",
    "A normalização com Enelvo trata de aspectos como erros ortográficos, gírias, siglas e outros detalhes.\n",
    "\n",
    "A substituição das virgulas por uma *label* temporária é feita para contornar "
   ]
  },
  {
   "cell_type": "code",
   "execution_count": 20,
   "id": "2389a8eb",
   "metadata": {},
   "outputs": [],
   "source": [
    "\n",
    "if USE_ENELVO:\n",
    "    # Enelvo (https://thalesbertaglia.com/enelvo/)\n",
    "    from enelvo.normaliser import Normaliser\n",
    "\n",
    "    # Substituir as vírgulas pela label 'chavevirg' para evitar conflitos durante a normalização do texto\n",
    "    texts = texts.str.replace(r',', 'chavevirg')\n",
    "    texts.values\n",
    "\n",
    "    # Criar uma instância do normalizador\n",
    "    normaliser_instance = Normaliser(tokenizer='readable')\n",
    "    # Aplicar a normalização com Enelvo para os textos do corpus\n",
    "    texts = texts.apply(lambda text: normaliser_instance.normalise(text))"
   ]
  },
  {
   "cell_type": "markdown",
   "id": "6135754a",
   "metadata": {},
   "source": [
    "## Remoção de URLs"
   ]
  },
  {
   "cell_type": "code",
   "execution_count": 21,
   "id": "6526fba4",
   "metadata": {},
   "outputs": [
    {
     "data": {
      "text/plain": [
       "208601    não há nada que eu queira mais do que voltar n...\n",
       "462528    Lidando com mudanças de humor Tenho tido muita...\n",
       "76680     Se sua noiva não usar com voce, ja sabe. Não p...\n",
       "359032    muitas vezes não consigo trabalhar cerca de um...\n",
       "353889    quais são suas ações quando você está se senti...\n",
       "                                ...                        \n",
       "285128    Estou deprimido há mais tempo do que me lembro...\n",
       "244216    efeitos colaterais do wellbutrin, espero não e...\n",
       "130960                                       Q fita em mano\n",
       "307709    lidar com a ansiedade enquanto o marido está f...\n",
       "48159     Seu namorado está com dependência emocional de...\n",
       "Name: text, Length: 7645, dtype: object"
      ]
     },
     "execution_count": 21,
     "metadata": {},
     "output_type": "execute_result"
    }
   ],
   "source": [
    "import re\n",
    "# Remove URLs if there is any\n",
    "texts = texts.apply(lambda text: re.sub(r'http\\S+', '', text))\n",
    "\n",
    "if USE_ENELVO:\n",
    "    # Reverter a substituição de vírgulas\n",
    "    texts = texts.str.replace('chavevirg', ',')\n",
    "\n",
    "texts"
   ]
  },
  {
   "cell_type": "markdown",
   "id": "e39d5cf0",
   "metadata": {},
   "source": [
    "## Remoção de pontuação\n",
    "A remoção de pontuação visa a redução do ruído (mantendo apenas as palavras que importam) e aumenta a eficiência do processamento.\n",
    "É importante frisar que a pontuação **NÃO** é removida quando faz parte de *hashtags*, datas ou números com vírgula."
   ]
  },
  {
   "cell_type": "code",
   "execution_count": 22,
   "id": "7cf8b7fd",
   "metadata": {},
   "outputs": [
    {
     "data": {
      "text/plain": [
       "array(['não há nada que eu queira mais do que voltar no tempo e refazer minha vida com todas as memórias e conhecimentos que tenho agora eu sonho acordado com isso constantemente é a única coisa que me dá uma aparência de felicidade Na verdade eu era feliz quando criança tenho boas lembranças de brincar com meus amigos desenhar assistir desenhos animados etc e parte meu coração saber que nunca mais serei feliz de verdade assim se eu tivesse que adivinhar onde tudo deu errado provavelmente foi quando fui separado de meus amigos no ensino fundamental Desenvolvi ansiedade geralsocial e depressão se eu pudesse retroceder minha vida não deixaria que isso me afetasse tanto faria novos bons amigos eu também levaria o desenho mais a sério queria trabalhar com animação mas minha anedonia tirou toda a minha motivação Além disso fico muito desanimado quando vejo alguém que é muito melhor do que eu Eu também leria mais livros assistiria mais filmesprogramas etc eu sei que poderia fazer isso agora mas novamente minha depressão torna tudo uma tarefa árdua e qual seria o sentido eu simplesmente apreciaria mais as coisas se pudesse voltar pelo menos por mais patético que pareça terminar o ensino médio foi a única coisa que consegui agora já passei dos meus 24 anos e apenas terminei o ensino médio porque não tenho talento ou interesses ao contrário de meus antigos amigos que estão muito à minha frente e estão realmente realizando coisas eu me pergunto quão diferente quão melhor minha vida poderia ter sido desculpe que isso esteja em todo lugar nunca fui muito articulado obrigado por ouvir',\n",
       "       'Lidando com mudanças de humor Tenho tido muitas mudanças de humor ultimamente nada parece estar desencadeandoas elas simplesmente parecem acontecer existe alguma maneira de lidar melhor com eles ou detêlos completamente',\n",
       "       'Se sua noiva não usar com voce ja sabe Não pergunte Nao sou à favor de bisbilhotar mas dessa vez eu abriria uma exceção se conseguir fuçar as coisas dela depois de ela ter arrumado a mala e achar as camisinhas para mim seria o fim ali mesmo é mais que confirmação que ela espera que algo aconteça nessa viagemConvença ela a arrumar as coisas com antecedência ai quando ela não estiver por perto dá uma olhada se ela nao teve nem o cuidado de jogar fora essa nota fiscal não deve ter o cuidado de esconder demais também deve estar em alguma necessaire com produto de beleza ou na bolsa dela mesmo Veja se nao está pela casa tambem quem sabe mas se ela nunca comprou antes nem dessa marca nao é bom sinalMantenhanos informados e boa sorte',\n",
       "       ..., 'Q fita em mano',\n",
       "       'lidar com a ansiedade enquanto o marido está fora então meu marido irá embora por alguns meses em breve e ele geralmente é uma grande ajuda quando minha ansiedade piora minha ansiedade está bastante equilibrada há alguns meses mas está aumentando novamente sabendo que ele estará ausente eu adoraria algumas dicas para lidar com a situação enquanto estou sozinho em casa',\n",
       "       'Seu namorado está com dependência emocional de você Para um relacionamento ser saudável o casal precisa ter desejo de vida sonhos e planos individuais e sonhos e planos do casal Quando um deixa de pensar no futuro e querer mais da vida o relacionamento fica fraco porque não tem perspectiva E não cabe a apenas um sustentar esse desejo de vida Cabe a cada um Sendo assim você não pode parar sua vida simplesmente porque o outro não pode seguir O que você precisa fazer ter um papo sério um papo de adulto com seu namorado Ele precisa escolher o que quer da vida Tudo na vida são escolhas Viver é escolha Morrer é escolha Ficar saudável é escolha Ficar doente é escolha Se ele realmente gosta de você e quer ficar do seu lado ele precisa escolher ficar saudável viver e se responsabilizar pelo futuro do relacionamento O mesmo cabe a você Se deseja realmente continuar com ele ou não isso precisa ficar claro E se ele vir com chantagens emocionais do tipo se você for embora eu vou morrer saiba novamente que querer viver ou querer morrer são escolhas E precisamos respeitar as escolhas das outras pessoas e fazer nossas próprias escolhas   Siga meu perfil no Insta  ou no Face Rafael Almeida  Analista Corporal  Posto bastante material lá que vai te ajudar a entender que o formato do corpo explica que tipo de mente uma pessoa tem e como isso interfere nos relacionamentos'],\n",
       "      dtype=object)"
      ]
     },
     "execution_count": 22,
     "metadata": {},
     "output_type": "execute_result"
    }
   ],
   "source": [
    "def remove_punctuation(text: str):\n",
    "    return re.sub(\n",
    "        r'(?<!\\d),(?=\\D)|(?<=\\D),(?!\\d)|(?<!\\d),(?=\\d)|(?<!\\d)\\/|\\/(?!\\d)|_|[^\\w#\\/\\s,\\@]','', text)\n",
    "\n",
    "texts = texts.apply(lambda text: remove_punctuation(text))\n",
    "texts.values"
   ]
  },
  {
   "cell_type": "markdown",
   "id": "c7129be7",
   "metadata": {},
   "source": [
    "## Tokenização do texto\n",
    "Após a remoção de partes menos relevantes dos textos pertencentes ao *corpus*, é importante tokenizar tais textos, permitindo a aplicação de técnicas como a contagem de vocabulário. Além disso, isso facilita o processamento computacional."
   ]
  },
  {
   "cell_type": "code",
   "execution_count": 23,
   "id": "17caabf5",
   "metadata": {},
   "outputs": [
    {
     "name": "stderr",
     "output_type": "stream",
     "text": [
      "[nltk_data] Downloading package punkt_tab to /home/yago/nltk_data...\n",
      "[nltk_data]   Package punkt_tab is already up-to-date!\n"
     ]
    },
    {
     "data": {
      "text/plain": [
       "208601    [não, há, nada, que, eu, queira, mais, do, que...\n",
       "462528    [Lidando, com, mudanças, de, humor, Tenho, tid...\n",
       "76680     [Se, sua, noiva, não, usar, com, voce, ja, sab...\n",
       "359032    [muitas, vezes, não, consigo, trabalhar, cerca...\n",
       "353889    [quais, são, suas, ações, quando, você, está, ...\n",
       "                                ...                        \n",
       "285128    [Estou, deprimido, há, mais, tempo, do, que, m...\n",
       "244216    [efeitos, colaterais, do, wellbutrin, espero, ...\n",
       "130960                                  [Q, fita, em, mano]\n",
       "307709    [lidar, com, a, ansiedade, enquanto, o, marido...\n",
       "48159     [Seu, namorado, está, com, dependência, emocio...\n",
       "Name: text, Length: 7645, dtype: object"
      ]
     },
     "execution_count": 23,
     "metadata": {},
     "output_type": "execute_result"
    }
   ],
   "source": [
    "from nltk.tokenize import word_tokenize\n",
    "\n",
    "nltk.download('punkt_tab')\n",
    "texts = texts.apply(lambda text: word_tokenize(text))\n",
    "texts"
   ]
  },
  {
   "cell_type": "markdown",
   "id": "fb3388cc",
   "metadata": {},
   "source": [
    "## Remoção de *stopwords*\n",
    "É necessário remover palavras muito comuns no idioma, visto que, geralmente, elas trazem pouco significado semântico. Isso ajuda a **reduzir a dimensionalidade** e a aumentar a ênfase do vocabulário em **palavras mais importantes**.\n",
    "\n",
    "Exemplos: artigos, preposições, conjunções, pronomes, advérbios de frequência e modo etc."
   ]
  },
  {
   "cell_type": "code",
   "execution_count": null,
   "id": "a34103d7",
   "metadata": {},
   "outputs": [],
   "source": [
    "nltk.download('stopwords')\n",
    "\n",
    "stopwords = nltk.corpus.stopwords.words('portuguese')"
   ]
  }
 ],
 "metadata": {
  "kernelspec": {
   "display_name": ".venv (3.11.2)",
   "language": "python",
   "name": "python3"
  },
  "language_info": {
   "codemirror_mode": {
    "name": "ipython",
    "version": 3
   },
   "file_extension": ".py",
   "mimetype": "text/x-python",
   "name": "python",
   "nbconvert_exporter": "python",
   "pygments_lexer": "ipython3",
   "version": "3.11.2"
  }
 },
 "nbformat": 4,
 "nbformat_minor": 5
}
