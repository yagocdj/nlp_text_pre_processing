{
 "cells": [
  {
   "cell_type": "markdown",
   "id": "7eee4a6b",
   "metadata": {},
   "source": [
    "# Tarefa 5 - Treinando Modelos Densos Estáticos\n",
    "## Alunos\n",
    "- Yago César\n",
    "- Samuel Morais\n"
   ]
  },
  {
   "cell_type": "markdown",
   "id": "77fc21e6",
   "metadata": {},
   "source": [
    "## Lendo o corpus pré-processado"
   ]
  },
  {
   "cell_type": "code",
   "execution_count": 5,
   "id": "e7771cef",
   "metadata": {},
   "outputs": [
    {
     "data": {
      "text/plain": [
       "0        [nada, queira, voltar, tempo, refazer, vida, t...\n",
       "1        [lidando, mudanças, humor, tido, muitas, mudan...\n",
       "2        [noiva, usar, voce, ja, sabe, pergunte, nao, f...\n",
       "3        [muitas, vezes, consigo, trabalhar, cerca, hor...\n",
       "4        [quais, ações, sentindo, ansioso, procurando, ...\n",
       "                               ...                        \n",
       "50962    [vivo, outras, fazendo, péssimo, trabalho, viv...\n",
       "50963    [parabéns, amigo, tapa, buraco, depende, quer,...\n",
       "50964    [ansiedade, doente, epiléptico, ansiedade, def...\n",
       "50965    [passei, período, difícil, durante, últimos, 3...\n",
       "50966    [sair, terapia, desde, 14, anos, finalmente, d...\n",
       "Name: text, Length: 50967, dtype: object"
      ]
     },
     "execution_count": 5,
     "metadata": {},
     "output_type": "execute_result"
    }
   ],
   "source": [
    "import pandas as pd\n",
    "import ast\n",
    "\n",
    "df = pd.read_csv(\"data/TokenizedSentences.csv\")\n",
    "\n",
    "# Transformando as strings \"[...strings]\" para listas de strings\n",
    "df['text'] = df['text'].apply(ast.literal_eval)\n",
    "\n",
    "corpus = df['text'].tolist()\n",
    "df['text']"
   ]
  },
  {
   "cell_type": "markdown",
   "id": "932f82e1",
   "metadata": {},
   "source": [
    "## Treinando o modelo"
   ]
  },
  {
   "cell_type": "code",
   "execution_count": null,
   "id": "efd48701",
   "metadata": {},
   "outputs": [
    {
     "name": "stdout",
     "output_type": "stream",
     "text": [
      "Time to build vocab: 0.01\n",
      "Time to train the model: 2.21 mins\n"
     ]
    },
    {
     "name": "stderr",
     "output_type": "stream",
     "text": [
      "/tmp/ipykernel_28877/2822979235.py:21: DeprecationWarning: Call to deprecated `init_sims` (Gensim 4.0.0 implemented internal optimizations that make calls to init_sims() unnecessary. init_sims() is now obsoleted and will be completely removed in future versions. See https://github.com/RaRe-Technologies/gensim/wiki/Migrating-from-Gensim-3.x-to-4).\n",
      "  model.init_sims(replace=True)\n"
     ]
    }
   ],
   "source": [
    "from gensim.models import Word2Vec\n",
    "from time import time\n",
    "import logging\n",
    "\n",
    "logging.basicConfig(format='%(asctime)s : %(levelname)s : %(message)s', level=logging.INFO)\n",
    "\n",
    "model = Word2Vec(\n",
    "    vector_size=300,\n",
    "    window=5,\n",
    "    min_count=5,\n",
    "    sample=6e-5,\n",
    "    sg=1 # CBOW = 0 ; SkipGram = 1\n",
    ")\n",
    "\n",
    "t = time()\n",
    "model.build_vocab(corpus, progress_per=10000)\n",
    "\n",
    "print(f'Time to build vocab: {round((time() - t) / 60, 2)}')\n",
    "\n",
    "t = time()\n",
    "model.train(corpus, total_examples=model.corpus_count, epochs=30, report_delay=1)\n",
    "print(f'Time to train the model: {round((time() - t) / 60, 2)} mins')\n",
    "\n",
    "model.save('word2vec_sgram.model')\n"
   ]
  },
  {
   "cell_type": "markdown",
   "id": "30c11b60",
   "metadata": {},
   "source": [
    "## Exploração semântica\n",
    "### Palavras mais similares\n",
    "\n",
    "Tomando como base o contexto do corpus, as 4 palavras escohidas foram:\n",
    "- depressão;\n",
    "- ansiedade;\n",
    "- medo;\n",
    "- suicídio."
   ]
  },
  {
   "cell_type": "code",
   "execution_count": null,
   "id": "82cf269c",
   "metadata": {},
   "outputs": [
    {
     "data": {
      "text/plain": [
       "[('ataques', 0.8192235231399536),\n",
       " ('ataque', 0.7734318971633911),\n",
       " ('ansiedade', 0.6586445569992065),\n",
       " ('pânicoansiedade', 0.5356523990631104),\n",
       " ('ansioso', 0.4834514856338501),\n",
       " ('sintomas', 0.45120304822921753),\n",
       " ('tendo', 0.45071545243263245),\n",
       " ('batimentos', 0.4454892873764038),\n",
       " ('ansiedadepânico', 0.44178271293640137),\n",
       " ('cardíaco', 0.4200853109359741)]"
      ]
     },
     "execution_count": 13,
     "metadata": {},
     "output_type": "execute_result"
    }
   ],
   "source": [
    "model.wv.most_similar(positive=[\"depressão\"], topn=5)"
   ]
  },
  {
   "cell_type": "code",
   "execution_count": 14,
   "id": "f61b2db6",
   "metadata": {},
   "outputs": [
    {
     "data": {
      "text/plain": [
       "[('depressão', 0.6619756817817688),\n",
       " ('pânico', 0.6586444973945618),\n",
       " ('social', 0.657738983631134),\n",
       " ('ataques', 0.608400821685791),\n",
       " ('diagnosticado', 0.5388233661651611)]"
      ]
     },
     "execution_count": 14,
     "metadata": {},
     "output_type": "execute_result"
    }
   ],
   "source": [
    "model.wv.most_similar(positive=[\"ansiedade\"], topn=5)"
   ]
  },
  {
   "cell_type": "code",
   "execution_count": 16,
   "id": "d3ac1092",
   "metadata": {},
   "outputs": [
    {
     "data": {
      "text/plain": [
       "[('posso', 0.5136370658874512),\n",
       " ('causa', 0.5071543455123901),\n",
       " ('morrer', 0.4897680878639221),\n",
       " ('preocupado', 0.4877718985080719),\n",
       " ('ideia', 0.48593705892562866)]"
      ]
     },
     "execution_count": 16,
     "metadata": {},
     "output_type": "execute_result"
    }
   ],
   "source": [
    "model.wv.most_similar(positive=[\"medo\"], topn=5)"
   ]
  },
  {
   "cell_type": "code",
   "execution_count": 17,
   "id": "1590d071",
   "metadata": {},
   "outputs": [
    {
     "data": {
      "text/plain": [
       "[('matar', 0.6484552621841431),\n",
       " ('suicida', 0.5514351725578308),\n",
       " ('cometer', 0.5420529842376709),\n",
       " ('tentativa', 0.5321749448776245),\n",
       " ('morte', 0.5142024755477905)]"
      ]
     },
     "execution_count": 17,
     "metadata": {},
     "output_type": "execute_result"
    }
   ],
   "source": [
    "model.wv.most_similar(positive=[\"suicídio\"], topn=5)"
   ]
  },
  {
   "cell_type": "markdown",
   "id": "093170c5",
   "metadata": {},
   "source": [
    "## Similaridade semântica entre palavras\n",
    "\n",
    "Palavras escolhidas:\n",
    "- ansiedade;\n",
    "- depressão;\n",
    "- suicídio."
   ]
  },
  {
   "cell_type": "code",
   "execution_count": 20,
   "id": "1fbdf972",
   "metadata": {},
   "outputs": [
    {
     "data": {
      "text/plain": [
       "0.6619757"
      ]
     },
     "execution_count": 20,
     "metadata": {},
     "output_type": "execute_result"
    }
   ],
   "source": [
    "model.wv.similarity('ansiedade', 'depressão')"
   ]
  },
  {
   "cell_type": "code",
   "execution_count": 25,
   "id": "03f9d80b",
   "metadata": {},
   "outputs": [
    {
     "data": {
      "text/plain": [
       "0.14742094"
      ]
     },
     "execution_count": 25,
     "metadata": {},
     "output_type": "execute_result"
    }
   ],
   "source": [
    "model.wv.similarity('suicídio', 'ansiedade')"
   ]
  },
  {
   "cell_type": "code",
   "execution_count": 26,
   "id": "abf46450",
   "metadata": {},
   "outputs": [
    {
     "data": {
      "text/plain": [
       "0.36058834"
      ]
     },
     "execution_count": 26,
     "metadata": {},
     "output_type": "execute_result"
    }
   ],
   "source": [
    "model.wv.similarity('depressão', 'suicídio')"
   ]
  },
  {
   "cell_type": "markdown",
   "id": "a37aed87",
   "metadata": {},
   "source": [
    "## Analogia semântica\n",
    "\n",
    "Analogias escolhidas:\n",
    "- \"suicídio + depressão\": entender quais palavras mais se relacionam com a combinação de **\"suicídio\"** com **\"depressão\"**.\n",
    "\"depressão + ansiedade - suicídio\": ."
   ]
  },
  {
   "cell_type": "code",
   "execution_count": null,
   "id": "5d166fff",
   "metadata": {},
   "outputs": [
    {
     "data": {
      "text/plain": [
       "[('suicida', 0.6331512331962585),\n",
       " ('matar', 0.5774985551834106),\n",
       " ('suicidas', 0.5762591361999512),\n",
       " ('deprimido', 0.5468285083770752),\n",
       " ('mental', 0.5226360559463501),\n",
       " ('diagnosticado', 0.5204373598098755),\n",
       " ('vida', 0.5046091675758362),\n",
       " ('ansiedade', 0.49066269397735596),\n",
       " ('transtorno', 0.47831130027770996),\n",
       " ('pensamentos', 0.4756019711494446)]"
      ]
     },
     "execution_count": 28,
     "metadata": {},
     "output_type": "execute_result"
    }
   ],
   "source": [
    "# suicídio + depressão\n",
    "model.wv.most_similar(positive=[\"suicídio\", \"depressão\"])"
   ]
  },
  {
   "cell_type": "code",
   "execution_count": 29,
   "id": "5b2ef90b",
   "metadata": {},
   "outputs": [
    {
     "data": {
      "text/plain": [
       "[('social', 0.5230732560157776),\n",
       " ('pânico', 0.4886881709098816),\n",
       " ('ataques', 0.4742621183395386),\n",
       " ('diagnosticado', 0.4650210738182068),\n",
       " ('transtorno', 0.454802006483078),\n",
       " ('estresse', 0.44036513566970825),\n",
       " ('recentemente', 0.43963363766670227),\n",
       " ('severa', 0.4338925778865814),\n",
       " ('sintomas', 0.4259622097015381),\n",
       " ('geral', 0.42242783308029175)]"
      ]
     },
     "execution_count": 29,
     "metadata": {},
     "output_type": "execute_result"
    }
   ],
   "source": [
    "# depressão + ansiedade - suicídio\n",
    "model.wv.most_similar(positive=[\"depressão\", \"ansiedade\"], negative=['suicídio'])"
   ]
  },
  {
   "cell_type": "code",
   "execution_count": 30,
   "id": "62f65c26",
   "metadata": {},
   "outputs": [
    {
     "data": {
      "text/plain": [
       "[('mental', 0.6679843664169312),\n",
       " ('terapeuta', 0.6156370639801025),\n",
       " ('médico', 0.5743861198425293),\n",
       " ('psiquiatra', 0.5581804513931274),\n",
       " ('terapia', 0.5561575889587402),\n",
       " ('consultar', 0.5146474838256836),\n",
       " ('ajuda', 0.5139002203941345),\n",
       " ('problemas', 0.4710984528064728),\n",
       " ('encaminhou', 0.4589638411998749),\n",
       " ('ajudar', 0.4547247588634491)]"
      ]
     },
     "execution_count": 30,
     "metadata": {},
     "output_type": "execute_result"
    }
   ],
   "source": [
    "model.wv.most_similar(positive=[\"psicólogo\", \"saúde\"])"
   ]
  },
  {
   "cell_type": "markdown",
   "id": "a6dca814",
   "metadata": {},
   "source": [
    "## Modelo Doc2Vec\n"
   ]
  },
  {
   "cell_type": "code",
   "execution_count": null,
   "id": "7b7dbf6b",
   "metadata": {},
   "outputs": [],
   "source": [
    "from gensim.models import Doc2Vec"
   ]
  }
 ],
 "metadata": {
  "kernelspec": {
   "display_name": ".venv (3.11.2)",
   "language": "python",
   "name": "python3"
  },
  "language_info": {
   "codemirror_mode": {
    "name": "ipython",
    "version": 3
   },
   "file_extension": ".py",
   "mimetype": "text/x-python",
   "name": "python",
   "nbconvert_exporter": "python",
   "pygments_lexer": "ipython3",
   "version": "3.11.2"
  }
 },
 "nbformat": 4,
 "nbformat_minor": 5
}
